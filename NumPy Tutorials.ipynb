{
 "cells": [
  {
   "cell_type": "markdown",
   "id": "f56a078d",
   "metadata": {},
   "source": [
    "## NumPy is a python librabry used to work with arrays\n",
    "## NumPy stands for Numerical Python\n",
    "## Was created by Travis Oliphant in 2005"
   ]
  },
  {
   "cell_type": "markdown",
   "id": "0eeca617",
   "metadata": {},
   "source": [
    "## --------------------------------------------------------------"
   ]
  },
  {
   "cell_type": "markdown",
   "id": "907d3cce",
   "metadata": {},
   "source": [
    "## We can use lists in python to work with arrays, but lists are slow.\n",
    "## NumPy is 50X faster than lists in python.\n",
    "## Arrays are used in Data Science, where speed and resourses are very important/\n",
    "## Numpy Arrays are stored in one continous place in memory unlike lists. So processing is quick.\n",
    "## This behaviour is called locality of reference in computer science\n",
    "## This is the main reason why NumPy is faster than lists.\n",
    "## Numpy is partially written in pytho, but  most of the parts that require fast computations are written in c or c++"
   ]
  },
  {
   "cell_type": "markdown",
   "id": "bfedfd57",
   "metadata": {},
   "source": [
    "## ----------------------------------------------------------"
   ]
  },
  {
   "cell_type": "markdown",
   "id": "b5de7ca4",
   "metadata": {},
   "source": [
    "## Installing NumPy"
   ]
  },
  {
   "cell_type": "code",
   "execution_count": 3,
   "id": "44aef830",
   "metadata": {},
   "outputs": [
    {
     "name": "stdout",
     "output_type": "stream",
     "text": [
      "Requirement already satisfied: NumPy in c:\\users\\meheboob unnisa\\python\\anaconda3\\lib\\site-packages (1.20.3)\n"
     ]
    }
   ],
   "source": [
    "! pip install NumPy   # this line will install NumPy from the internet. By default, its installed in Jupyter Notebook"
   ]
  },
  {
   "cell_type": "markdown",
   "id": "8debca8f",
   "metadata": {},
   "source": [
    "## Importing NumPy as np"
   ]
  },
  {
   "cell_type": "code",
   "execution_count": 5,
   "id": "57788afb",
   "metadata": {},
   "outputs": [],
   "source": [
    "import numpy as np   # Now we can write np instead of writing NumPy everytime"
   ]
  },
  {
   "cell_type": "markdown",
   "id": "bc415a08",
   "metadata": {},
   "source": [
    "## Checking version of numpy"
   ]
  },
  {
   "cell_type": "code",
   "execution_count": 6,
   "id": "4109afb7",
   "metadata": {},
   "outputs": [
    {
     "data": {
      "text/plain": [
       "'1.20.3'"
      ]
     },
     "execution_count": 6,
     "metadata": {},
     "output_type": "execute_result"
    }
   ],
   "source": [
    "np.__version__    # __version__ underscore is twice"
   ]
  },
  {
   "cell_type": "markdown",
   "id": "73aa389d",
   "metadata": {},
   "source": [
    "## Creating numpy Arrays"
   ]
  },
  {
   "cell_type": "markdown",
   "id": "4e21b777",
   "metadata": {},
   "source": [
    "## we can create arrays using the array() fuction\n"
   ]
  },
  {
   "cell_type": "code",
   "execution_count": 7,
   "id": "fcc7e393",
   "metadata": {},
   "outputs": [
    {
     "name": "stdout",
     "output_type": "stream",
     "text": [
      "[10 12 16 17  9]\n"
     ]
    }
   ],
   "source": [
    "# Example of creating array using list\n",
    "\n",
    "import numpy as np\n",
    "\n",
    "new_list = np.array([10,12,16,17,9])    # arrays are created using array() function\n",
    "print(new_list)   # list of arrays is printed"
   ]
  },
  {
   "cell_type": "code",
   "execution_count": 8,
   "id": "61e461a4",
   "metadata": {},
   "outputs": [
    {
     "data": {
      "text/plain": [
       "numpy.ndarray"
      ]
     },
     "execution_count": 8,
     "metadata": {},
     "output_type": "execute_result"
    }
   ],
   "source": [
    "type(new_list)   # type of new_list is checked. Output is ndarray"
   ]
  },
  {
   "cell_type": "code",
   "execution_count": 9,
   "id": "8183b8dd",
   "metadata": {},
   "outputs": [
    {
     "name": "stdout",
     "output_type": "stream",
     "text": [
      "[2 3 5 7 9]\n"
     ]
    }
   ],
   "source": [
    "## using a tuple to create arrays\n",
    "import numpy as np\n",
    "\n",
    "new_list2 = np.array((2,3,5,7,9))    # creating array using tuple\n",
    "\n",
    "print(new_list2)   # printing the new_list2"
   ]
  },
  {
   "cell_type": "code",
   "execution_count": 10,
   "id": "ca934ae2",
   "metadata": {},
   "outputs": [
    {
     "data": {
      "text/plain": [
       "numpy.ndarray"
      ]
     },
     "execution_count": 10,
     "metadata": {},
     "output_type": "execute_result"
    }
   ],
   "source": [
    "# checking the type of the new_list2. ndarray is the output. ndarray means n dimensional array\n",
    "type(new_list2)"
   ]
  },
  {
   "cell_type": "markdown",
   "id": "93507e0b",
   "metadata": {},
   "source": [
    "## Dimensions in Arrays"
   ]
  },
  {
   "cell_type": "code",
   "execution_count": 13,
   "id": "4506d2cb",
   "metadata": {},
   "outputs": [
    {
     "name": "stdout",
     "output_type": "stream",
     "text": [
      "23\n"
     ]
    },
    {
     "data": {
      "text/plain": [
       "0"
      ]
     },
     "execution_count": 13,
     "metadata": {},
     "output_type": "execute_result"
    }
   ],
   "source": [
    "## Example of 0 dimensional array\n",
    "array1 = np.array(23)   # if there is only element, its 0 dimensional array\n",
    "\n",
    "print(array1)   \n",
    "\n",
    "# checking the dimensions of an array.To do that we use, ndim attribute\n",
    "array1.ndim   # 0 is printed, as array1 is a 0 dimensional array\n"
   ]
  },
  {
   "cell_type": "code",
   "execution_count": 21,
   "id": "f3e92a4e",
   "metadata": {},
   "outputs": [
    {
     "name": "stdout",
     "output_type": "stream",
     "text": [
      "[12 14 15 20]\n",
      "<class 'numpy.ndarray'>\n",
      "1\n"
     ]
    }
   ],
   "source": [
    "# Example of 1 dimensional array \n",
    "\n",
    "array2 = np.array([12,14,15,20]) \n",
    "\n",
    "print(array2)  ## prints the array\n",
    "\n",
    "print(type(array2))  ## prints the type of array\n",
    " \n",
    "print(array2.ndim)   ## prints dimensions of array"
   ]
  },
  {
   "cell_type": "code",
   "execution_count": 24,
   "id": "b69005b4",
   "metadata": {},
   "outputs": [
    {
     "name": "stdout",
     "output_type": "stream",
     "text": [
      "[[1 3 4]\n",
      " [5 8 9]]\n",
      "2\n"
     ]
    }
   ],
   "source": [
    "#Example of 2 dimensional array\n",
    "\n",
    "# An array that has 1-d array as an element is called as 2d array(matrices)\n",
    "\n",
    "array3 = np.array([[1,3,4], [5,8,9]])\n",
    "\n",
    "print(array3)\n",
    "\n",
    "print(array3.ndim)   # prints 2 as its a 2d array"
   ]
  },
  {
   "cell_type": "code",
   "execution_count": 28,
   "id": "19636108",
   "metadata": {},
   "outputs": [
    {
     "name": "stdout",
     "output_type": "stream",
     "text": [
      "[[[2 3 5]\n",
      "  [7 8 6]]\n",
      "\n",
      " [[1 2 3]\n",
      "  [5 6 4]]]\n",
      "\n",
      "3\n"
     ]
    }
   ],
   "source": [
    "# example of 3-d arrays\n",
    "\n",
    "# An array that has 2-dimensinal array as an element.\n",
    "\n",
    "array4 = np.array([[[2,3,5], [7,8,6]],[[1,2,3],[5,6,4]]])\n",
    "\n",
    "print(array4)\n",
    "print()\n",
    "print(array4.ndim)    # prints 3 as its a 3-d array"
   ]
  },
  {
   "cell_type": "code",
   "execution_count": 33,
   "id": "bc83ad11",
   "metadata": {},
   "outputs": [
    {
     "name": "stdout",
     "output_type": "stream",
     "text": [
      "[[[[[2 5 7 4 8]]]]]\n",
      "\n",
      "5\n"
     ]
    }
   ],
   "source": [
    "# Higher dimensional arrays\n",
    "\n",
    "# we can create higher dimensional arrays just by defining ndmin argument when arrays are created\n",
    "\n",
    "array5 = np.array([2,5,7,4,8], ndmin=5)   # creates a 5-d array\n",
    "print(array5)\n",
    "print()\n",
    "print(array5.ndim)   # prints 5 as its a 5-d array"
   ]
  },
  {
   "cell_type": "markdown",
   "id": "1224f0cc",
   "metadata": {},
   "source": [
    "## Indexing Arrays or Acessing Arrays"
   ]
  },
  {
   "cell_type": "code",
   "execution_count": 34,
   "id": "b0e943fb",
   "metadata": {},
   "outputs": [
    {
     "name": "stdout",
     "output_type": "stream",
     "text": [
      "7\n"
     ]
    }
   ],
   "source": [
    "# Indexing array pr Array indexing is same as acessing an array element.\n",
    "# We can access to an array element using index number\n",
    "# indexes start from 0 which means 1st element has index 0\n",
    "\n",
    "import numpy as np\n",
    "\n",
    "array6 = np.array([4,6,7,10])\n",
    "\n",
    "print(array6[2])   # 7 will be printed, as its index is 2"
   ]
  },
  {
   "cell_type": "code",
   "execution_count": 36,
   "id": "56b3109b",
   "metadata": {},
   "outputs": [
    {
     "name": "stdout",
     "output_type": "stream",
     "text": [
      "10\n"
     ]
    }
   ],
   "source": [
    "# We can perform operations on the elemets using the indexes\n",
    "\n",
    "array7 = np.array([9,6,5,4])\n",
    "\n",
    "x = array7[3] + array7[1]   # 4+6\n",
    "print(x)"
   ]
  },
  {
   "cell_type": "markdown",
   "id": "5d20e4a0",
   "metadata": {},
   "source": [
    "## Acessing 2-D Arrays"
   ]
  },
  {
   "cell_type": "code",
   "execution_count": 44,
   "id": "9b6ed3c3",
   "metadata": {},
   "outputs": [
    {
     "name": "stdout",
     "output_type": "stream",
     "text": [
      "[[1 2 3 4 5]\n",
      " [9 8 7 5 6]]\n",
      "4\n"
     ]
    }
   ],
   "source": [
    "# Imagine 2-d arrays like table of rows and columns\n",
    "\n",
    "array8 = np.array([[1,2,3,4,5],[9,8,7,5,6]])\n",
    "\n",
    "print(array8)  # prints it like a table. Rows start with 0 and columns start with 0.\n",
    "               # If we want to get 4, we need to write [0,3] row 0 and column 3rd\n",
    "    \n",
    "print(array8[0,3])  # prints 4"
   ]
  },
  {
   "cell_type": "markdown",
   "id": "c180c5ea",
   "metadata": {},
   "source": [
    "## Accessing 3-D Arrays"
   ]
  },
  {
   "cell_type": "code",
   "execution_count": 47,
   "id": "ebb1be02",
   "metadata": {},
   "outputs": [
    {
     "name": "stdout",
     "output_type": "stream",
     "text": [
      "6\n"
     ]
    }
   ],
   "source": [
    "array9 = np.array([[[1,2,3],[4,5,6]],[[7,8,9],[10,11,12]]])\n",
    "\n",
    "print(array9[0,1,2])\n",
    "\n",
    "# the above print statment prints 6\n",
    "# we have 3-d array as \n",
    "# [[1,2,3],[4,5,6]]\n",
    "# [[7,8,9],[10,11,12]]\n",
    "# we selected 0, that means we are left with [[1,2,3],[4,5,6]]\n",
    "# we slected 1, that means we are left with [4,5,6]\n",
    "# we slected 2 that means we are left with 6\n"
   ]
  },
  {
   "cell_type": "markdown",
   "id": "33bd76e6",
   "metadata": {},
   "source": [
    "## Accessing with negative indexes "
   ]
  },
  {
   "cell_type": "code",
   "execution_count": 50,
   "id": "040b672a",
   "metadata": {},
   "outputs": [
    {
     "name": "stdout",
     "output_type": "stream",
     "text": [
      "9\n"
     ]
    }
   ],
   "source": [
    "# We use negative indexes to access elements from the left\n",
    "\n",
    "array10 = np.array([[1,2,3,4],[6,7,8,9]])\n",
    "\n",
    "x=array10[1,-1]  #x is now 9. Since we selected 1, we are left with [6,7,8,9]. we selected -1 i.e. 9\n",
    "print(x)"
   ]
  },
  {
   "cell_type": "markdown",
   "id": "4faed942",
   "metadata": {},
   "source": [
    "## ---------------------------------------------------------------\n",
    "## Array Slicing"
   ]
  },
  {
   "cell_type": "code",
   "execution_count": 54,
   "id": "39583f5c",
   "metadata": {},
   "outputs": [
    {
     "name": "stdout",
     "output_type": "stream",
     "text": [
      "[4 6 3]\n"
     ]
    }
   ],
   "source": [
    "# example of slicing an array\n",
    "# syntax is [start:end] or [start:end:step]\n",
    "\n",
    "array11 = np.array([2,4,6,3,7,8,19,23,54,23,19,45,67,89])\n",
    "\n",
    "print(array11[1:4])  # from index[1] to index[3] \n",
    "                    # note: the result includes start  index but excludes the end index"
   ]
  },
  {
   "cell_type": "code",
   "execution_count": 58,
   "id": "5ad38168",
   "metadata": {},
   "outputs": [
    {
     "name": "stdout",
     "output_type": "stream",
     "text": [
      "[ 6  7 19]\n"
     ]
    }
   ],
   "source": [
    "print(array11[2:8:2])   # [start:end:step] start is starting index, end is 1 less, step is skip by 2 "
   ]
  },
  {
   "cell_type": "code",
   "execution_count": 59,
   "id": "9a1dbd86",
   "metadata": {},
   "outputs": [
    {
     "name": "stdout",
     "output_type": "stream",
     "text": [
      "[ 6  3  7  8 19 23 54 23 19 45 67 89]\n"
     ]
    }
   ],
   "source": [
    "print(array11[2:])   #from index 2 to end of the array"
   ]
  },
  {
   "cell_type": "code",
   "execution_count": 60,
   "id": "b470eae9",
   "metadata": {},
   "outputs": [
    {
     "name": "stdout",
     "output_type": "stream",
     "text": [
      "[2 4 6 3 7]\n"
     ]
    }
   ],
   "source": [
    "print(array11[:5])  #from begining to the index[5] not included"
   ]
  },
  {
   "cell_type": "markdown",
   "id": "98396947",
   "metadata": {},
   "source": [
    "## We can slice using negative indexes also"
   ]
  },
  {
   "cell_type": "markdown",
   "id": "a1451495",
   "metadata": {},
   "source": [
    "## --------------------------------------------------------------------------------"
   ]
  },
  {
   "cell_type": "markdown",
   "id": "0c6da8f7",
   "metadata": {},
   "source": [
    "## Getting the shape of an array"
   ]
  },
  {
   "cell_type": "code",
   "execution_count": 67,
   "id": "eda13cae",
   "metadata": {},
   "outputs": [
    {
     "name": "stdout",
     "output_type": "stream",
     "text": [
      "[[1 2 3 4]\n",
      " [5 6 7 8]]\n",
      "\n",
      "(2, 4)\n"
     ]
    }
   ],
   "source": [
    "# We have shape attribute that gives the output as tuple\n",
    "\n",
    "arr1 = np.array([[1,2,3,4], [5,6,7,8]])\n",
    "\n",
    "print(arr1)\n",
    "print()\n",
    "print(arr1.shape)    # gives the spahe of the array.. 2 rows, 4 coulmns"
   ]
  },
  {
   "cell_type": "markdown",
   "id": "32dd225e",
   "metadata": {},
   "source": [
    "## ------------------------------------------------------------"
   ]
  },
  {
   "cell_type": "markdown",
   "id": "f4c592c4",
   "metadata": {},
   "source": [
    "## Reshaping arrays...... from 1d to 2d or 3d etc"
   ]
  },
  {
   "cell_type": "code",
   "execution_count": 69,
   "id": "e3daa529",
   "metadata": {},
   "outputs": [
    {
     "data": {
      "text/plain": [
       "array([[ 1,  2,  3,  4],\n",
       "       [ 5,  6,  7,  8],\n",
       "       [ 9, 10, 11, 12]])"
      ]
     },
     "execution_count": 69,
     "metadata": {},
     "output_type": "execute_result"
    }
   ],
   "source": [
    "#converting 1d array with 12 elements into 2d array\n",
    "\n",
    "arr2 = np.array([1,2,3,4,5,6,7,8,9,10,11,12])\n",
    "\n",
    "new_arr2 = arr2.reshape(3,4)   # new array will have 3 arrays with 4 elements each\n",
    "\n",
    "new_arr2"
   ]
  },
  {
   "cell_type": "code",
   "execution_count": 75,
   "id": "5b392eeb",
   "metadata": {},
   "outputs": [
    {
     "data": {
      "text/plain": [
       "array([[[ 1,  2],\n",
       "        [ 3,  4]],\n",
       "\n",
       "       [[ 5,  6],\n",
       "        [ 7,  8]],\n",
       "\n",
       "       [[ 9, 10],\n",
       "        [11, 12]]])"
      ]
     },
     "execution_count": 75,
     "metadata": {},
     "output_type": "execute_result"
    }
   ],
   "source": [
    "#Converting 1d to 3d \n",
    "\n",
    "arr3=np.array([1,2,3,4,5,6,7,8,9,10,11,12])\n",
    "\n",
    "new_arr3=arr3.reshape(3,2,2)  # 3dimensions, 2 arrays, each array will have 2 elements\n",
    "\n",
    "new_arr3"
   ]
  },
  {
   "cell_type": "markdown",
   "id": "c9aa3025",
   "metadata": {},
   "source": [
    "## ------------------------------------------------------------------------"
   ]
  },
  {
   "cell_type": "markdown",
   "id": "40c2dd91",
   "metadata": {},
   "source": [
    "## Iterating Arrays"
   ]
  },
  {
   "cell_type": "code",
   "execution_count": 76,
   "id": "5b489e86",
   "metadata": {},
   "outputs": [
    {
     "name": "stdout",
     "output_type": "stream",
     "text": [
      "4\n",
      "5\n",
      "6\n",
      "7\n",
      "8\n"
     ]
    }
   ],
   "source": [
    "# Iterating means going through the elements one by one\n",
    "# we can do iteration using for loop\n",
    "# iterating 1d array\n",
    "\n",
    "arr3 = np.array([4,5,6,7,8])\n",
    "\n",
    "for x in arr3:\n",
    "    print(x)"
   ]
  },
  {
   "cell_type": "code",
   "execution_count": 79,
   "id": "776579d4",
   "metadata": {},
   "outputs": [
    {
     "name": "stdout",
     "output_type": "stream",
     "text": [
      "[1 2 3 4]\n",
      "[5 6 7 8]\n"
     ]
    }
   ],
   "source": [
    "#iterating 2d array\n",
    "\n",
    "arr4 = np.array([[1,2,3,4],[5,6,7,8]])  \n",
    "for x in arr4:\n",
    "    print(x)    # prints the rows"
   ]
  },
  {
   "cell_type": "markdown",
   "id": "5e44a1a9",
   "metadata": {},
   "source": [
    "## ----------------------------------------------------"
   ]
  },
  {
   "cell_type": "markdown",
   "id": "c47a828a",
   "metadata": {},
   "source": [
    "## Joining Arrays"
   ]
  },
  {
   "cell_type": "code",
   "execution_count": 81,
   "id": "0532d683",
   "metadata": {},
   "outputs": [
    {
     "name": "stdout",
     "output_type": "stream",
     "text": [
      "[1 2 3 4 5 6 7 8]\n"
     ]
    }
   ],
   "source": [
    "# Joining means putting contents of two or more arrays in a single array\n",
    "\n",
    "x1 = np.array([1,2,3,4]) \n",
    "x2 = np.array([5,6,7,8])\n",
    "\n",
    "new_array = np.concatenate((x1,x2))  # new array is [1,2,3,4,5,6,7,8]\n",
    "print(new_array)\n"
   ]
  },
  {
   "cell_type": "code",
   "execution_count": 90,
   "id": "8e0e6e3b",
   "metadata": {},
   "outputs": [
    {
     "name": "stdout",
     "output_type": "stream",
     "text": [
      "[[1 2 7 8]\n",
      " [4 5 9 1]]\n"
     ]
    }
   ],
   "source": [
    "y1 = np.array([[1,2],[4,5]])\n",
    "y2 = np.array([[7,8],[9,1]])\n",
    "\n",
    "new_array2 = np.concatenate((y1, y2), axis=1)\n",
    "print(new_array2)"
   ]
  },
  {
   "cell_type": "code",
   "execution_count": null,
   "id": "8ed5ee79",
   "metadata": {},
   "outputs": [],
   "source": []
  },
  {
   "cell_type": "code",
   "execution_count": null,
   "id": "c0e52e73",
   "metadata": {},
   "outputs": [],
   "source": []
  },
  {
   "cell_type": "code",
   "execution_count": null,
   "id": "a942bc55",
   "metadata": {},
   "outputs": [],
   "source": []
  },
  {
   "cell_type": "code",
   "execution_count": null,
   "id": "5ecade50",
   "metadata": {},
   "outputs": [],
   "source": []
  },
  {
   "cell_type": "code",
   "execution_count": null,
   "id": "ad2b034d",
   "metadata": {},
   "outputs": [],
   "source": []
  }
 ],
 "metadata": {
  "kernelspec": {
   "display_name": "Python 3 (ipykernel)",
   "language": "python",
   "name": "python3"
  },
  "language_info": {
   "codemirror_mode": {
    "name": "ipython",
    "version": 3
   },
   "file_extension": ".py",
   "mimetype": "text/x-python",
   "name": "python",
   "nbconvert_exporter": "python",
   "pygments_lexer": "ipython3",
   "version": "3.9.7"
  }
 },
 "nbformat": 4,
 "nbformat_minor": 5
}
