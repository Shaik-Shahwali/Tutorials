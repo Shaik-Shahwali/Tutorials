{
 "cells": [
  {
   "cell_type": "code",
   "execution_count": 1,
   "id": "460f6936",
   "metadata": {},
   "outputs": [],
   "source": [
    "# Machine learning is making computer learn from data and stats. We feed computer data and train it, after training the\n",
    "# computer will predict. Analyzing the data and predict the outcome.\n"
   ]
  },
  {
   "cell_type": "code",
   "execution_count": 2,
   "id": "ecd2803b",
   "metadata": {},
   "outputs": [],
   "source": [
    "# Data Types\n",
    "# there are three types\n",
    "# 1) Numerical \n",
    "# 2) Categorical\n",
    "# 3) Ordinal\n",
    "\n",
    "# 1) Numerical Data Type----> Numbers\n",
    "# it has two types a) Descrete  --> integers (number of cars passing by, number of employees etc)\n",
    "#                  b) Continous ---> decimals (price of an item, weight of a student etc)\n",
    "\n",
    "# 2) Categorical Data Type : Data values that cannot be measured up against each other (cannot be compared with each other)\n",
    "# exapmle: colors, yes or no values\n",
    "\n",
    "# 3) Ordinal Data Type : This is like categorical data but can be measured against each other. \n",
    "# example: school grades A, B, C. can be compared with ecah other\n",
    "\n",
    "# By knowing the data type of your data source, you will be  able to know what technique to use when analyzing data.\n"
   ]
  },
  {
   "cell_type": "code",
   "execution_count": 3,
   "id": "92ea6308",
   "metadata": {},
   "outputs": [],
   "source": [
    "# Mean, Median and Mode\n",
    "# Mean is the average value\n",
    "# Median is the middle value after the data is sorted in either ascending or descending order\n",
    "# Mode is the most frequently occuring value\n",
    "\n"
   ]
  },
  {
   "cell_type": "code",
   "execution_count": 4,
   "id": "5559ea71",
   "metadata": {},
   "outputs": [
    {
     "name": "stdout",
     "output_type": "stream",
     "text": [
      "89.76923076923077\n"
     ]
    }
   ],
   "source": [
    "# Find mean, median and mode\n",
    "# we have a list of array in which speed of the cars are noted\n",
    "#importing the numpy library\n",
    "\n",
    "import numpy as np\n",
    "\n",
    "speed = [99,86,87,88,111,86,103,87,94,78,77,85,86]\n",
    "\n",
    "#numpy has a method mean() to find the average\n",
    "\n",
    "x = np.mean(speed)\n",
    "\n",
    "print(x)   # printing the mean speed"
   ]
  },
  {
   "cell_type": "code",
   "execution_count": 5,
   "id": "192bf67b",
   "metadata": {},
   "outputs": [
    {
     "name": "stdout",
     "output_type": "stream",
     "text": [
      "87.0\n"
     ]
    }
   ],
   "source": [
    "# finding the median, using median() method of numpy\n",
    "\n",
    "y = np.median(speed)\n",
    "\n",
    "print(y)"
   ]
  },
  {
   "cell_type": "code",
   "execution_count": 6,
   "id": "3e59a9e5",
   "metadata": {},
   "outputs": [
    {
     "ename": "AttributeError",
     "evalue": "module 'numpy' has no attribute 'mode'",
     "output_type": "error",
     "traceback": [
      "\u001b[1;31m---------------------------------------------------------------------------\u001b[0m",
      "\u001b[1;31mAttributeError\u001b[0m                            Traceback (most recent call last)",
      "\u001b[1;32mC:\\Users\\MEHEBO~1\\AppData\\Local\\Temp/ipykernel_46812/2628764995.py\u001b[0m in \u001b[0;36m<module>\u001b[1;34m\u001b[0m\n\u001b[0;32m      2\u001b[0m \u001b[1;31m#should show error as numpy has no mode() method\u001b[0m\u001b[1;33m\u001b[0m\u001b[1;33m\u001b[0m\u001b[0m\n\u001b[0;32m      3\u001b[0m \u001b[1;33m\u001b[0m\u001b[0m\n\u001b[1;32m----> 4\u001b[1;33m \u001b[0mz\u001b[0m \u001b[1;33m=\u001b[0m \u001b[0mnp\u001b[0m\u001b[1;33m.\u001b[0m\u001b[0mmode\u001b[0m\u001b[1;33m(\u001b[0m\u001b[0mspeed\u001b[0m\u001b[1;33m)\u001b[0m\u001b[1;33m\u001b[0m\u001b[1;33m\u001b[0m\u001b[0m\n\u001b[0m",
      "\u001b[1;32m~\\python\\anaconda3\\lib\\site-packages\\numpy\\__init__.py\u001b[0m in \u001b[0;36m__getattr__\u001b[1;34m(attr)\u001b[0m\n\u001b[0;32m    301\u001b[0m                 \u001b[1;32mreturn\u001b[0m \u001b[0mTester\u001b[0m\u001b[1;33m\u001b[0m\u001b[1;33m\u001b[0m\u001b[0m\n\u001b[0;32m    302\u001b[0m \u001b[1;33m\u001b[0m\u001b[0m\n\u001b[1;32m--> 303\u001b[1;33m             raise AttributeError(\"module {!r} has no attribute \"\n\u001b[0m\u001b[0;32m    304\u001b[0m                                  \"{!r}\".format(__name__, attr))\n\u001b[0;32m    305\u001b[0m \u001b[1;33m\u001b[0m\u001b[0m\n",
      "\u001b[1;31mAttributeError\u001b[0m: module 'numpy' has no attribute 'mode'"
     ]
    }
   ],
   "source": [
    "# finding the mode\n",
    "#should show error as numpy has no mode() method\n",
    "\n",
    "z = np.mode(speed)"
   ]
  },
  {
   "cell_type": "code",
   "execution_count": 7,
   "id": "86e9d1be",
   "metadata": {},
   "outputs": [
    {
     "name": "stdout",
     "output_type": "stream",
     "text": [
      "ModeResult(mode=array([86]), count=array([3]))\n"
     ]
    }
   ],
   "source": [
    "# to find mode we use mode() from stats which is a part of scipy\n",
    "\n",
    "from scipy import stats\n",
    "\n",
    "z = stats.mode(speed)\n",
    "\n",
    "print(z)   # displays 86 and how many times it has occured"
   ]
  },
  {
   "cell_type": "code",
   "execution_count": 8,
   "id": "568ff1bf",
   "metadata": {},
   "outputs": [],
   "source": [
    "# standard deviation and variance\n",
    "\n",
    "# standard deviation is anumber that describes how spread out the values are.\n",
    "# if standard deviation is low it means, that most of the numbers are close to the mean value\n",
    "# if it is high, it means that values are spread out over a wider range.\n",
    "\n"
   ]
  },
  {
   "cell_type": "code",
   "execution_count": 9,
   "id": "cb90e015",
   "metadata": {},
   "outputs": [
    {
     "name": "stdout",
     "output_type": "stream",
     "text": [
      "0.9035079029052513\n"
     ]
    }
   ],
   "source": [
    "#we have registered 7 car speeds\n",
    "\n",
    "speed = [86,87,88,86,87,85,86]   # standard deviation is 0.9\n",
    "                                 #which means the values are within the range of 0.9 from the mean value which is 86.4\n",
    "\n",
    "# we have a metho std()\n",
    "\n",
    "std_dev = np.std(speed)\n",
    "\n",
    "print(std_dev)\n"
   ]
  },
  {
   "cell_type": "code",
   "execution_count": 10,
   "id": "79bb8be8",
   "metadata": {},
   "outputs": [
    {
     "name": "stdout",
     "output_type": "stream",
     "text": [
      "37.84501153334721\n"
     ]
    }
   ],
   "source": [
    "# lets take exampke in which the values are spreed out\n",
    "\n",
    "speed2 = [32, 111, 138, 28, 59, 77, 97]\n",
    "\n",
    "std_dev2 = np.std(speed2)\n",
    "\n",
    "print(std_dev2)"
   ]
  },
  {
   "cell_type": "code",
   "execution_count": 11,
   "id": "cf3130ab",
   "metadata": {},
   "outputs": [
    {
     "name": "stdout",
     "output_type": "stream",
     "text": [
      "0.8163265306122449\n",
      "1432.2448979591834\n"
     ]
    }
   ],
   "source": [
    "# variance is another number that indicates how spread out the values are\n",
    "# square root of variance is standard deviation\n",
    "# variance = (standard deviation)**2\n",
    "\n",
    "#method to calculate variance\n",
    "\n",
    "# 1) find the mean\n",
    "# 2) for each value, find difference from the mean\n",
    "# 3) for each difference, find the square value (why square? because negative values become positive)\n",
    "# 4) find the average of the squared numbers, this is variance\n",
    "\n",
    "# numpy has var() method to find out variance\n",
    "\n",
    "var_speed = np.var(speed)\n",
    "\n",
    "print(var_speed)\n",
    "\n",
    "var_speed2 = np.var(speed2)\n",
    "\n",
    "print(var_speed2)"
   ]
  },
  {
   "cell_type": "code",
   "execution_count": 12,
   "id": "a4acfdd4",
   "metadata": {},
   "outputs": [
    {
     "name": "stdout",
     "output_type": "stream",
     "text": [
      "37.84501153334721\n"
     ]
    }
   ],
   "source": [
    "# square root of 1432.2448979591834 is 37.84501153334721\n",
    "\n",
    "a = np.sqrt(1432.2448979591834)\n",
    "print(a)"
   ]
  },
  {
   "cell_type": "code",
   "execution_count": 13,
   "id": "92b61810",
   "metadata": {},
   "outputs": [],
   "source": [
    "# standard deviation and variance are the terms that are often used in machine learning, thats why its important to\n",
    "# understand the logic and concepts"
   ]
  },
  {
   "cell_type": "code",
   "execution_count": 14,
   "id": "68b41f1d",
   "metadata": {},
   "outputs": [
    {
     "name": "stdout",
     "output_type": "stream",
     "text": [
      "43.0\n"
     ]
    }
   ],
   "source": [
    "# percentiles\n",
    "\n",
    "# Percentiles are used in stats to give you a number that describes the value that a given percent of the values are lower than.\n",
    "# example: we have an array of people who live on the street\n",
    "\n",
    "ages = [5,31,43,48,50,41,7,11,15,39,80, 82,32,2,8,6,25,36,27,61,31]\n",
    "\n",
    "# we will find 75 percentile, answer is 43, which means that 75% of the people are 43 or younger.\n",
    "\n",
    "# we use percentile() method\n",
    "\n",
    "per_age = np.percentile(ages, 75)  # percentile(variable_name, percentile_we_want)\n",
    "\n",
    "print(per_age)"
   ]
  },
  {
   "cell_type": "code",
   "execution_count": 15,
   "id": "6212a97d",
   "metadata": {},
   "outputs": [
    {
     "name": "stdout",
     "output_type": "stream",
     "text": [
      "61.0\n"
     ]
    }
   ],
   "source": [
    "per_age2 = np.percentile(ages, 90)\n",
    "print(per_age2)"
   ]
  },
  {
   "cell_type": "code",
   "execution_count": 16,
   "id": "34890bf6",
   "metadata": {},
   "outputs": [
    {
     "name": "stdout",
     "output_type": "stream",
     "text": [
      "[51.49135087 55.48910359 88.959233   60.74749036  5.02326366 33.89781782\n",
      " 81.70205299 10.22970824 98.46026322 50.04936092 67.69889668 45.21537598\n",
      "  4.13073569 57.96109369 50.83393839 38.57487596 60.66570242 17.90030958\n",
      " 12.82503155 23.02703492 58.37722161 28.47044071 27.94868486 97.82404958\n",
      " 36.4782266  68.19739584 88.45201095 18.03995066 32.68977304 65.0563687\n",
      " 85.26193839 89.26253425 70.60750555 53.62964263  7.38806248 23.55200599\n",
      " 83.01480656 58.98616458 26.57696647 21.29090422 80.81944596 13.48046614\n",
      " 53.65924764 20.78045777 99.87099311 20.07887165 12.07920069 87.01932778\n",
      " 80.28135044 64.91084789 18.31723731 95.23039049 17.4058005  95.26176854\n",
      " 82.9066726  25.78993827 14.97185022 58.68045417 35.11192514 93.18871364\n",
      " 88.31671085 86.74149682 42.37603395 88.06303549 51.26563457 10.20736859\n",
      " 49.93070021 92.15931594 84.08711331  3.16277656 61.64589915 92.24458754\n",
      " 85.96741223 50.18254685 21.27975951 35.58203483 22.81157372 46.68517591\n",
      " 95.37393502 11.52581141 87.21585304 58.60011773 97.96035446 58.94952221\n",
      " 91.76216466 49.15757527 74.93268982 31.9311271  12.21249283 40.2160568\n",
      " 85.22084673 76.19760158 47.07094024 82.56595214 76.35885487 31.38620658\n",
      " 91.16279942 79.73209912 73.11136817 47.89202077 28.54959338 76.80013303\n",
      " 12.35236716 51.79529709 58.42113676 24.62336563 61.61757576 14.90488796\n",
      " 23.56490537 51.17068281 89.98239536 74.09210985  9.24770657 18.1498929\n",
      " 80.03565668 70.91956632 33.50057969 27.55862129 95.62157232 83.11159319\n",
      " 84.1401781  49.65165563  6.2300801  33.65492599 21.12158013 32.9726484\n",
      "  7.47306545 83.28310259 77.47831629  8.2416663  24.36938233  6.13638864\n",
      " 72.8423387  49.72998077 88.48554091 72.02835803 10.87317374 96.13177169\n",
      " 38.95685368 57.71210488 86.31889776  7.66593864 87.34652901 24.38876037\n",
      " 95.30001083 85.12266483 65.04406972 39.68656504  4.67559043 48.99342753\n",
      "  5.11388814 80.35666652 70.90435367 37.94092865 75.14625939 92.61088874\n",
      " 33.67719405  6.58204825 63.60077179 46.00893761 68.90975407 65.99567175\n",
      " 61.73810474 87.74359509 13.40007075 36.0832181  29.7871779  54.80995123\n",
      " 43.91099133  8.66910829 77.82437317 98.52437624 18.38440713  6.93078059\n",
      " 43.52010904 80.37208406 55.20708502 14.7838904  41.65462728 77.59649098\n",
      " 62.24654056  5.19101307 28.95364289 61.75386454 52.8285245  59.63763387\n",
      " 97.85903178 65.89067357 32.27312999 42.08336162 98.0937739  46.22284382\n",
      " 45.44588653 85.26413661 81.58317008 18.97696945 55.87417382 47.99699258\n",
      " 11.9540486  23.34096942 27.19078785 82.94025154 85.50853526 91.78479772\n",
      " 48.6335075  96.5038676  99.22021261 78.76905582 12.77229521 46.46774939\n",
      " 50.24539431 60.74611093 80.17726172 12.34633431  1.00496564 10.07991751\n",
      " 31.58039656  6.27311144 22.5236947   8.60497445 33.3906586  28.93668808\n",
      " 76.63260311 76.73668545 32.6136573  22.13805818  4.3990768  82.04862603\n",
      " 62.4159382  57.36505462 66.82604261 27.11566382 49.42205229 16.52461439\n",
      " 26.11291599 79.7528358  98.18189646 12.58015147 24.49593418 48.33413285\n",
      " 63.23595449 10.20376342 90.99145821 98.82879962 21.33581233 53.80016418\n",
      " 54.69912983 11.30205417 30.70512995 97.66276942 15.08495168 78.80635094\n",
      " 50.85852531 80.07181328 43.48502734 92.78468386 48.22368412 25.00237688\n",
      " 43.33491682  8.27216955 77.26648354 70.19575312 47.86286635 95.53944632\n",
      " 37.11742651 21.31719063 70.19531865 19.00383698  7.73683865 74.37171572\n",
      " 60.51968717  9.67003572 73.62661599  9.8038357  26.94313685 60.97757864\n",
      " 34.4232681  76.53243945  7.87057344 19.36374984  3.16135279 72.31662301\n",
      " 62.39996484 54.19346075 92.16897161 10.72603398 45.88985676 71.94245196\n",
      " 88.18333204 92.55021878 35.089845   69.47162912 82.94770246 12.69814621\n",
      " 56.66303035  2.19884394 36.73275941 69.92302635 80.43642971 57.41626432\n",
      " 11.55912689 26.6821635  68.3635701   5.72299194 58.7425612  44.25235814\n",
      " 26.30911867 41.42230847 99.93653017 59.84344228 91.77117812 68.64490717\n",
      " 74.12994174 18.94132443 20.13149183 55.73930742  6.29957585 70.16438079\n",
      " 29.72833492 28.40255888 82.64297646 26.85536001 40.00374179 20.39111708\n",
      " 20.37883699 58.30572856  2.23778697 22.39448643 57.5463664  60.30763877\n",
      " 77.9891977  54.12444934 18.28700216 13.16834341  6.43224347 57.34168034\n",
      " 17.00377487  6.97450037 67.88226199 69.04483674 20.15445816 82.12947264\n",
      " 94.62148353 62.0965455  85.15182421 28.66743049 96.38324939 67.29053683\n",
      " 11.74138913 21.46335855 26.65483571  2.99123754 84.48996572 84.14540159\n",
      " 13.44759556 78.01359013  4.75739051  4.53578227 93.37836645 47.66596555\n",
      " 97.40116832 15.67262816 14.41466955  8.73218189  1.96554581 50.35484893\n",
      " 55.79358873 25.87209506 94.20851898 90.83768236 78.2052679  30.18626194\n",
      "  3.10842341 51.85761476 97.47985519 10.20071694 54.67260005 52.84968326\n",
      " 55.35872232 89.91564363 46.28513544 70.78749887 83.21714702 81.54047012\n",
      " 90.69530956 63.37389821  1.2737327  32.04919653 43.70090049 76.27169803\n",
      " 92.18969661  3.34177522 42.5160937   1.97800927 51.3400164  68.51994174\n",
      " 16.55114134 26.31045477 47.6091057  47.41008678 80.88630154 94.93932635\n",
      " 64.22309804 77.78693261 10.72830305 93.51140531 78.1590547  65.72966535\n",
      " 22.62862654 31.34920163 31.32432179 44.80813349 21.77217961 21.04724253\n",
      " 26.00262864 99.02724984 82.70858885  5.71994455  7.95597319 29.82996733\n",
      " 58.76459861 83.97491987 17.88467377 41.35098763 18.36693643 52.86720837\n",
      " 28.58762613 27.47468215 16.27262937 74.65806423 63.99051774 60.88713086\n",
      " 40.75849831  2.39440496 85.74554688 45.14264618 92.98297699 16.60270026\n",
      " 79.4023509  56.5029959  59.97254572 79.31275868 63.65851358 33.13288415\n",
      " 68.281493   41.01618265 55.47592952 96.38501675 74.50869011 75.47268704\n",
      " 84.28651434 57.03228442 82.52587011 17.98383156 61.22460528 62.09253617\n",
      "  3.41785009  6.66997034 48.6422836  52.0441572  88.23584279 58.12174166\n",
      " 67.41589024  3.11754666 21.72701922 13.94695081 75.9338132  12.05775973\n",
      " 15.51322125 14.03482645 43.41666705 85.08117121 17.41261265 47.8244447\n",
      " 77.42731183 56.87746685 48.13623819 83.41028259 41.58878365 38.4146637\n",
      " 16.11374781 96.43741823 72.09709119 60.68020459 85.6020825  76.33608473\n",
      " 79.80104176 87.3083198  29.3142778  82.87712197 64.62654243 67.20933004\n",
      " 29.80031495 78.18991483 68.97975047 84.85793413 19.44576204 17.6459638\n",
      " 55.31376513 66.71208927]\n"
     ]
    }
   ],
   "source": [
    "#Data Distribution\n",
    "\n",
    "#until now we have worked with small amount of data to understand the concepts.\n",
    "#but in real world, data sets are much bigger. \n",
    "\n",
    "# to create big data sets, we will use random() method from numpy\n",
    "\n",
    "import numpy as np\n",
    "x = np.random.uniform(1,100,500)  # min value 1, max value is 1 less than 100, 250 values\n",
    "print(x)"
   ]
  },
  {
   "cell_type": "code",
   "execution_count": 17,
   "id": "cae8f0dd",
   "metadata": {},
   "outputs": [
    {
     "data": {
      "image/png": "[encoded data removed]",
      "text/plain": [
       "<Figure size 432x288 with 1 Axes>"
      ]
     },
     "metadata": {
      "needs_background": "light"
     },
     "output_type": "display_data"
    }
   ],
   "source": [
    "# drawing histogram \n",
    "\n",
    "#importing matplotlib.pyplot\n",
    "\n",
    "import matplotlib.pyplot as plt\n",
    "\n",
    "x = np.random.uniform(0,10, 500) # min 0, max 9, 500 values\n",
    "\n",
    "plt.hist(x, 5)  # 5 is number of bars to be drawn.\n",
    "\n",
    "plt.show()\n"
   ]
  },
  {
   "cell_type": "code",
   "execution_count": 18,
   "id": "5365f04e",
   "metadata": {},
   "outputs": [],
   "source": [
    "#histogram explained \n",
    "\n",
    "# first bar shows how many values in the array between 0 and 2\n",
    "# second bar represents how many values in the array between 2 and 4"
   ]
  },
  {
   "cell_type": "code",
   "execution_count": 19,
   "id": "2ce3b2e1",
   "metadata": {},
   "outputs": [
    {
     "data": {
      "text/plain": [
       "<function matplotlib.pyplot.show(close=None, block=None)>"
      ]
     },
     "execution_count": 19,
     "metadata": {},
     "output_type": "execute_result"
    },
    {
     "data": {
      "image/png": "[encoded data removed]",
      "text/plain": [
       "<Figure size 432x288 with 1 Axes>"
      ]
     },
     "metadata": {
      "needs_background": "light"
     },
     "output_type": "display_data"
    }
   ],
   "source": [
    "#creating an array with 1000000 random numbers, and displaying them using histogram with 100 bars\n",
    "\n",
    "x = np.random.uniform(0,5,1000000)\n",
    "\n",
    "plt.hist(x, 100)  # 100 bars\n",
    "plt.show"
   ]
  },
  {
   "cell_type": "code",
   "execution_count": 20,
   "id": "ec9382ef",
   "metadata": {},
   "outputs": [
    {
     "name": "stdout",
     "output_type": "stream",
     "text": [
      "[5.63083541 5.9121275  3.23112521 ... 3.21729682 5.11697918 5.90826453]\n"
     ]
    },
    {
     "data": {
      "image/png": "[encoded data removed]",
      "text/plain": [
       "<Figure size 432x288 with 1 Axes>"
      ]
     },
     "metadata": {
      "needs_background": "light"
     },
     "output_type": "display_data"
    }
   ],
   "source": [
    "# Normal Data Distribution\n",
    "# previously we have studied how to create random data between two given values.\n",
    "# in this chapter we will learn how to create an array where the values are concentrated around a given value\n",
    "\n",
    "# in probability this type od data distribution is called normal data distribution\n",
    "# or Gaussian data distribution. also known as bell curve as it looks like bell\n",
    "\n",
    "# we use normal() method to do that\n",
    "\n",
    "import numpy as np\n",
    "import matplotlib.pyplot as plt\n",
    "\n",
    "x = np.random.normal(5,1,1000000)  # 5 is mean, standard deviation is 1, 1000000 values\n",
    "print(x)   # will show few values only, as 1000000 cant be displayed\n",
    "\n",
    "plt.hist(x,100)  # 100 bars are drawn\n",
    "plt.show()"
   ]
  },
  {
   "cell_type": "code",
   "execution_count": 21,
   "id": "70ebc2aa",
   "metadata": {},
   "outputs": [],
   "source": [
    "# histogram explained\n",
    "\n",
    "# the values are concentrated around 5 and rarely further away than 1 from the mean. You can see\n",
    "# from the histogram, most values are between 4 and 6 with a top at approximately 5"
   ]
  },
  {
   "cell_type": "code",
   "execution_count": 22,
   "id": "b4664070",
   "metadata": {},
   "outputs": [
    {
     "data": {
      "image/png": "[encoded data removed]",
      "text/plain": [
       "<Figure size 432x288 with 1 Axes>"
      ]
     },
     "metadata": {
      "needs_background": "light"
     },
     "output_type": "display_data"
    }
   ],
   "source": [
    "# Scatter Plot\n",
    "# a scatter plot is a diagram where each value in the data set is represented by a dot.\n",
    "# matplotlib has a methoid to draw scatter plot, it needs two arrays of the same length. one for x axis and other for y axis\n",
    "\n",
    "x = [5,7,8,7,2,17,2,9,4,11,12,9,6]  # x represents age of the car\n",
    "\n",
    "y = [99, 86, 87, 88, 111, 86, 103, 87, 94, 78, 77, 85,86]  # y represents speed of the car\n",
    "\n",
    "# using scatter() method to draw a scatter graph\n",
    "\n",
    "plt.scatter(x,y)\n",
    "plt.show()\n",
    "\n",
    "\n"
   ]
  },
  {
   "cell_type": "code",
   "execution_count": 23,
   "id": "7bba1434",
   "metadata": {},
   "outputs": [],
   "source": [
    "#scatter plot explained\n",
    "\n",
    "# x axis is ages, y axis is speed\n",
    "# two fastest cars were 2 years old, and the slowest car was 12 yrs old\n",
    "# newer the car, more is the speed (maybe its just a coincidence as we are taking only 13 values)"
   ]
  },
  {
   "cell_type": "code",
   "execution_count": 24,
   "id": "bd290fe0",
   "metadata": {},
   "outputs": [
    {
     "data": {
      "text/plain": [
       "<function matplotlib.pyplot.show(close=None, block=None)>"
      ]
     },
     "execution_count": 24,
     "metadata": {},
     "output_type": "execute_result"
    },
    {
     "data": {
      "image/png": "[encoded data removed]",
      "text/plain": [
       "<Figure size 432x288 with 1 Axes>"
      ]
     },
     "metadata": {
      "needs_background": "light"
     },
     "output_type": "display_data"
    }
   ],
   "source": [
    "#scatter plot using many values\n",
    "\n",
    "x = np.random.normal(5,1,1000)  # mean is 5, standard deviation is 1, 1000 values\n",
    "y = np.random.normal(10,2,1000)  # mean is 10, standard deviation is 2, 1000 values\n",
    "\n",
    "plt.scatter(x,y)\n",
    "plt.show\n",
    "\n"
   ]
  },
  {
   "cell_type": "code",
   "execution_count": 25,
   "id": "aeaa7b16",
   "metadata": {},
   "outputs": [],
   "source": [
    "# we can see that dots are concentrated around value of 5 on x axis and around 10 on y axis"
   ]
  },
  {
   "cell_type": "code",
   "execution_count": 26,
   "id": "9a96113b",
   "metadata": {},
   "outputs": [],
   "source": [
    "# linear regression\n",
    "\n",
    "# the term regression is used when you try to find the relationship between variables\n",
    "# in machine learning and in stats modelling that relationship is used to predict the outcome of the future events"
   ]
  },
  {
   "cell_type": "code",
   "execution_count": 27,
   "id": "3cf18733",
   "metadata": {},
   "outputs": [],
   "source": [
    "# linear regression\n",
    "\n",
    "# linear regression uses the relationship between the data points to draw a straight line through all of them.\n",
    "# this line can be used to predict future values\n",
    "# in ML predicting the future is very important\n"
   ]
  },
  {
   "cell_type": "code",
   "execution_count": 28,
   "id": "16f7f395",
   "metadata": {},
   "outputs": [],
   "source": [
    "# in this example x values represent age of the cars and y values represent speed\n",
    "\n",
    "# we have registered age and speed of 13 cars as they were passing  a tollbooth\n",
    "# let us see if the data collected could be used in a linear regression or not"
   ]
  },
  {
   "cell_type": "code",
   "execution_count": 29,
   "id": "e29fb602",
   "metadata": {},
   "outputs": [
    {
     "data": {
      "image/png": "[encoded data removed]",
      "text/plain": [
       "<Figure size 432x288 with 1 Axes>"
      ]
     },
     "metadata": {
      "needs_background": "light"
     },
     "output_type": "display_data"
    }
   ],
   "source": [
    "#lets draw a scatter plot first\n",
    "\n",
    "import matplotlib.pyplot as plt\n",
    "x = [5,7,8,7,2,17,2,9,4,11,12,9,6]\n",
    "y = [99,86,87,88,111,86,103,87,94,78,77,85,86]\n",
    "\n",
    "plt.scatter(x,y)\n",
    "plt.show()"
   ]
  },
  {
   "cell_type": "code",
   "execution_count": 30,
   "id": "40e40fbf",
   "metadata": {},
   "outputs": [
    {
     "data": {
      "image/png": "[encoded data removed]",
      "text/plain": [
       "<Figure size 432x288 with 1 Axes>"
      ]
     },
     "metadata": {
      "needs_background": "light"
     },
     "output_type": "display_data"
    }
   ],
   "source": [
    "# drawing a line of linear regression using scipy\n",
    "\n",
    "from scipy import stats\n",
    "\n",
    "slope, intercept, r, p, std_err = stats.linregress(x,y)\n",
    "\n",
    "def myfunction(x):\n",
    "    return slope*x+intercept    # y = mx+c    slope is m, y intercept is c\n",
    "\n",
    "mymodel = list(map(myfunction,x))  # calling the function and passing value x. the values of y will be stored in mymodel as list\n",
    "                                   # here values of y will be slope*x + intercept\n",
    "plt.scatter(x,y)\n",
    "plt.plot(x,mymodel)  # here mymodel has y values, i.e. y = mx+c returend from the myfunction\n",
    "plt.show()"
   ]
  },
  {
   "cell_type": "code",
   "execution_count": 31,
   "id": "321844e6",
   "metadata": {},
   "outputs": [
    {
     "name": "stdout",
     "output_type": "stream",
     "text": [
      "-0.758591524376155\n"
     ]
    }
   ],
   "source": [
    "# R is for relationship\n",
    "\n",
    "# its important to know how the relationship between the values of the x axis and the values of y axis is,\n",
    "# if there are no relationship the linear regression cannot be used to predict anything\n",
    "\n",
    "# this relationship --- the coeffiecient of correlation is called r\n",
    "\n",
    "# the r value ranges from -1 and 1, where 0 means no relationship and 1 (or -1) means 100% relationship\n",
    "\n",
    "#how well does the data fit in a linear regression?\n",
    "\n",
    "print(r)"
   ]
  },
  {
   "cell_type": "code",
   "execution_count": 32,
   "id": "bbc8456a",
   "metadata": {},
   "outputs": [],
   "source": [
    "#the result -0.76 shows that there is a relationsip, not perfect, but it indicates that we could use linear regression in future\n",
    "# predictions.\n",
    "# negative value of r represent inverse relation. if one value increases the other decreases(if age is less, speed is more)\n",
    "# that is why the slope of the line is negative"
   ]
  },
  {
   "cell_type": "code",
   "execution_count": 33,
   "id": "74475dab",
   "metadata": {},
   "outputs": [],
   "source": [
    "# predict future values\n",
    "\n",
    "# now we can use the information we have gathered to predict future values\n",
    "# example: trying to predict the speed of a 10 yr old car\n"
   ]
  },
  {
   "cell_type": "code",
   "execution_count": 34,
   "id": "74421d82",
   "metadata": {},
   "outputs": [
    {
     "name": "stdout",
     "output_type": "stream",
     "text": [
      "85.59308314937454\n"
     ]
    }
   ],
   "source": [
    "from scipy import stats\n",
    "\n",
    "# x values were given, \n",
    "# y values were given\n",
    "\n",
    "slope, intercept, r, p, std_err = stats.linregress(x,y)\n",
    "\n",
    "def myfunction(x):\n",
    "    return slope*x+intercept\n",
    "\n",
    "speed = myfunction(10)  # giving years as 10 to predict its speed\n",
    "\n",
    "print(speed)"
   ]
  },
  {
   "cell_type": "code",
   "execution_count": 35,
   "id": "cd3b9525",
   "metadata": {},
   "outputs": [],
   "source": [
    "#the example predicted a speed at 85.6 which can also be read from the diagram above. when x=10, y=85.6\n"
   ]
  },
  {
   "cell_type": "code",
   "execution_count": 36,
   "id": "6a77859c",
   "metadata": {},
   "outputs": [],
   "source": [
    "#bad fit????\n",
    "\n",
    "#lets create an example where linear regression would not be the best method to predict future values\n"
   ]
  },
  {
   "cell_type": "code",
   "execution_count": 37,
   "id": "b7653149",
   "metadata": {},
   "outputs": [
    {
     "data": {
      "image/png": "[encoded data removed]",
      "text/plain": [
       "<Figure size 432x288 with 1 Axes>"
      ]
     },
     "metadata": {
      "needs_background": "light"
     },
     "output_type": "display_data"
    }
   ],
   "source": [
    "#values of x and y should result in a very bad fit\n",
    "\n",
    "import matplotlib.pyplot as plt\n",
    "from scipy import stats\n",
    "\n",
    "x = [89,43,36,36,95,10,66,34,38,20,26,29,48,64,6,5,36,66,72,40]\n",
    "y = [21,46,3,35,67,95,53,72,58,10,26,34,90,33,38,20,56,2,47,15]\n",
    "\n",
    "slope, intercept, r, p, std_err = stats.linregress(x, y)\n",
    "\n",
    "def myfunc(x):\n",
    "  return slope * x + intercept\n",
    "\n",
    "mymodel = list(map(myfunc, x))\n",
    "\n",
    "plt.scatter(x, y)\n",
    "plt.plot(x, mymodel)\n",
    "plt.show()"
   ]
  },
  {
   "cell_type": "code",
   "execution_count": 38,
   "id": "256e22e3",
   "metadata": {},
   "outputs": [
    {
     "name": "stdout",
     "output_type": "stream",
     "text": [
      "0.01331814154297491\n"
     ]
    }
   ],
   "source": [
    "# printing the r for relationship\n",
    "\n",
    "print(r)"
   ]
  },
  {
   "cell_type": "code",
   "execution_count": 39,
   "id": "79ace3e2",
   "metadata": {},
   "outputs": [],
   "source": [
    "# the result 0.013 indicates a very bad relationship and tells us that this data set is not suitable for linear regression\n",
    "# the straight line is not horizontal line, as it has certain slope. If it was horizontal than value of r will be 0 but \n",
    "# here it is 0.013"
   ]
  },
  {
   "cell_type": "code",
   "execution_count": 40,
   "id": "ad5531fe",
   "metadata": {},
   "outputs": [],
   "source": [
    "# Polynomial Regression.\n",
    "\n",
    "# If your data is not fit for linear regression, it might be ideal for polynomial regression\n",
    "# polynomial regression, like linear regression, uses the relationship between x and y to find out best \n",
    "# way to draw a line through the points"
   ]
  },
  {
   "cell_type": "code",
   "execution_count": 41,
   "id": "a2236444",
   "metadata": {},
   "outputs": [],
   "source": [
    "# in this example, we have registered 18 cars that have passed tollbooth.\n",
    "# speed and time of the day is registered\n",
    "# x axis represents hours and y axis represents speed"
   ]
  },
  {
   "cell_type": "code",
   "execution_count": 42,
   "id": "c48d6505",
   "metadata": {},
   "outputs": [
    {
     "data": {
      "image/png": "[encoded data removed]",
      "text/plain": [
       "<Figure size 432x288 with 1 Axes>"
      ]
     },
     "metadata": {
      "needs_background": "light"
     },
     "output_type": "display_data"
    }
   ],
   "source": [
    "# draw a scatter plot\n",
    "\n",
    "import matplotlib.pyplot as plt\n",
    "\n",
    "x = [1,2,3,5,6,7,8,9,10,12,13,14,15,16,18,19,21,22]     # hours\n",
    "y = [100,90,80,60,60,55,60,65,70,70,75,76,78,79,90,99,99,100]  # speed of the cars\n",
    "\n",
    "plt.scatter(x, y)\n",
    "plt.show()"
   ]
  },
  {
   "cell_type": "code",
   "execution_count": 43,
   "id": "8c65c59e",
   "metadata": {},
   "outputs": [
    {
     "data": {
      "image/png": "[encoded data removed]",
      "text/plain": [
       "<Figure size 432x288 with 1 Axes>"
      ]
     },
     "metadata": {
      "needs_background": "light"
     },
     "output_type": "display_data"
    }
   ],
   "source": [
    "# drawing the line of polynomial regression (drawing the curve)\n",
    "\n",
    "import numpy as np\n",
    "import matplotlib.pyplot as plt\n",
    "\n",
    "x = [1,2,3,5,6,7,8,9,10,12,13,14,15,16,18,19,21,22]\n",
    "y = [100,90,80,60,60,55,60,65,70,70,75,76,78,79,90,99,99,100]\n",
    "\n",
    "mymodel = np.poly1d(np.polyfit(x, y, 3))   # x is the coefficient of x, y is coefficient of y and 3 is degree 3 polynomial\n",
    "\n",
    "myline = np.linspace(1, 22, 100) # we start the line/curve at 1 and end it at 22\n",
    "\n",
    "plt.scatter(x, y)    # drawing scatter plot\n",
    "plt.plot(myline, mymodel(myline))   # drawing polynomial curve\n",
    "plt.show() "
   ]
  },
  {
   "cell_type": "code",
   "execution_count": 44,
   "id": "65cf63af",
   "metadata": {},
   "outputs": [],
   "source": [
    "# R-Squared\n",
    "\n",
    "# It is important to know how well is the relationship between the values of the x- and y-axis.\n",
    "# if there is no relationship the polynomial regression cannot be used to predict anything.\n",
    "\n",
    "# The relationship is measured with a value called the r-squared.\n",
    "\n",
    "# The r-squared value ranges from 0 to 1, where 0 means no relationship, and 1 means 100% related.\n",
    "\n",
    "# Python and the Sklearn module will compute this value for you, all you have to do is feed it with the x and y arrays:"
   ]
  },
  {
   "cell_type": "code",
   "execution_count": 45,
   "id": "8ba10bb4",
   "metadata": {},
   "outputs": [
    {
     "name": "stdout",
     "output_type": "stream",
     "text": [
      "0.9432150416451027\n"
     ]
    }
   ],
   "source": [
    "# checking how well the data fits in polynomial curve\n",
    "\n",
    "import numpy as np\n",
    "from sklearn.metrics import r2_score \n",
    "\n",
    "x = [1,2,3,5,6,7,8,9,10,12,13,14,15,16,18,19,21,22]\n",
    "y = [100,90,80,60,60,55,60,65,70,70,75,76,78,79,90,99,99,100]\n",
    "\n",
    "mymodel = np.poly1d(np.polyfit(x, y, 3))\n",
    "\n",
    "print(r2_score(y, mymodel(x)))"
   ]
  },
  {
   "cell_type": "code",
   "execution_count": 46,
   "id": "8896eb06",
   "metadata": {},
   "outputs": [],
   "source": [
    "# 0.94 is 94%. its a very good relationship, we can use the polynomial regression in the futrue predictions for the \n",
    "# registered data\n"
   ]
  },
  {
   "cell_type": "code",
   "execution_count": 47,
   "id": "91f6c428",
   "metadata": {},
   "outputs": [],
   "source": [
    "# Predict Future Values\n",
    "# Now we can use the information we have gathered to predict future values.\n",
    "\n",
    "# Example: Let us try to predict the speed of a car that passes the tollbooth at around 17 P.M:"
   ]
  },
  {
   "cell_type": "code",
   "execution_count": 48,
   "id": "b956f233",
   "metadata": {},
   "outputs": [
    {
     "name": "stdout",
     "output_type": "stream",
     "text": [
      "88.87331269697987\n"
     ]
    }
   ],
   "source": [
    "speed = mymodel(17)  #giving hours as 17\n",
    "print(speed)         #printing the speed"
   ]
  },
  {
   "cell_type": "code",
   "execution_count": 49,
   "id": "60c14ca1",
   "metadata": {},
   "outputs": [],
   "source": [
    "# predicted value can be checked from the graph given above."
   ]
  },
  {
   "cell_type": "code",
   "execution_count": 50,
   "id": "7cfe0a5f",
   "metadata": {},
   "outputs": [],
   "source": [
    "# Bad fit example\n",
    "\n",
    "# let us create an example in which polynomial regression will not be suitable to use"
   ]
  },
  {
   "cell_type": "code",
   "execution_count": 51,
   "id": "a144d288",
   "metadata": {},
   "outputs": [
    {
     "data": {
      "image/png": "[encoded data removed]",
      "text/plain": [
       "<Figure size 432x288 with 1 Axes>"
      ]
     },
     "metadata": {
      "needs_background": "light"
     },
     "output_type": "display_data"
    }
   ],
   "source": [
    "import numpy as np\n",
    "import matplotlib.pyplot as plt\n",
    "\n",
    "x = [89,43,36,36,95,10,66,34,38,20,26,29,48,64,6,5,36,66,72,40]\n",
    "y = [21,46,3,35,67,95,53,72,58,10,26,34,90,33,38,20,56,2,47,15]\n",
    "\n",
    "mymodel = np.poly1d(np.polyfit(x, y, 3))    # degree 3 polynomail\n",
    "\n",
    "myline = np.linspace(2, 95, 100)  #start the curve at 1 end at 95\n",
    "\n",
    "plt.scatter(x, y)\n",
    "plt.plot(myline, mymodel(myline))\n",
    "plt.show()"
   ]
  },
  {
   "cell_type": "code",
   "execution_count": 52,
   "id": "7882a45b",
   "metadata": {},
   "outputs": [
    {
     "name": "stdout",
     "output_type": "stream",
     "text": [
      "0.009952707566680652\n"
     ]
    }
   ],
   "source": [
    "# checking r squred value\n",
    "\n",
    "import numpy as np\n",
    "from sklearn.metrics import r2_score\n",
    "\n",
    "x = [89,43,36,36,95,10,66,34,38,20,26,29,48,64,6,5,36,66,72,40]\n",
    "y = [21,46,3,35,67,95,53,72,58,10,26,34,90,33,38,20,56,2,47,15]\n",
    "\n",
    "mymodel = np.poly1d(np.polyfit(x, y, 3))\n",
    "\n",
    "print(r2_score(y, mymodel(x)))"
   ]
  },
  {
   "cell_type": "code",
   "execution_count": 53,
   "id": "bfb4b3e9",
   "metadata": {},
   "outputs": [],
   "source": [
    "# 0.00995 indicates a very bad relationship, \n",
    "# it is less than 1% and tells us that this data set is not suitable for polynomial regression."
   ]
  },
  {
   "cell_type": "code",
   "execution_count": 54,
   "id": "161c5f37",
   "metadata": {},
   "outputs": [],
   "source": [
    "# Multiple regression\n",
    "\n",
    "# multiple regression is same like linear regression but with more than one independent varibles\n",
    "# meaning that we will try to predict a value based on more than one variables"
   ]
  },
  {
   "cell_type": "code",
   "execution_count": 55,
   "id": "385d1f12",
   "metadata": {},
   "outputs": [
    {
     "data": {
      "text/html": [
       "<div>\n",
       "<style scoped>\n",
       "    .dataframe tbody tr th:only-of-type {\n",
       "        vertical-align: middle;\n",
       "    }\n",
       "\n",
       "    .dataframe tbody tr th {\n",
       "        vertical-align: top;\n",
       "    }\n",
       "\n",
       "    .dataframe thead th {\n",
       "        text-align: right;\n",
       "    }\n",
       "</style>\n",
       "<table border=\"1\" class=\"dataframe\">\n",
       "  <thead>\n",
       "    <tr style=\"text-align: right;\">\n",
       "      <th></th>\n",
       "      <th>Car</th>\n",
       "      <th>Model</th>\n",
       "      <th>Volume</th>\n",
       "      <th>Weight</th>\n",
       "      <th>CO2</th>\n",
       "    </tr>\n",
       "  </thead>\n",
       "  <tbody>\n",
       "    <tr>\n",
       "      <th>0</th>\n",
       "      <td>Toyota</td>\n",
       "      <td>Aygo</td>\n",
       "      <td>1000</td>\n",
       "      <td>790</td>\n",
       "      <td>99</td>\n",
       "    </tr>\n",
       "    <tr>\n",
       "      <th>1</th>\n",
       "      <td>Mitsubishi</td>\n",
       "      <td>Space Star</td>\n",
       "      <td>1200</td>\n",
       "      <td>1160</td>\n",
       "      <td>95</td>\n",
       "    </tr>\n",
       "    <tr>\n",
       "      <th>2</th>\n",
       "      <td>Skoda</td>\n",
       "      <td>Citigo</td>\n",
       "      <td>1000</td>\n",
       "      <td>929</td>\n",
       "      <td>95</td>\n",
       "    </tr>\n",
       "    <tr>\n",
       "      <th>3</th>\n",
       "      <td>Fiat</td>\n",
       "      <td>500</td>\n",
       "      <td>900</td>\n",
       "      <td>865</td>\n",
       "      <td>90</td>\n",
       "    </tr>\n",
       "    <tr>\n",
       "      <th>4</th>\n",
       "      <td>Mini</td>\n",
       "      <td>Cooper</td>\n",
       "      <td>1500</td>\n",
       "      <td>1140</td>\n",
       "      <td>105</td>\n",
       "    </tr>\n",
       "    <tr>\n",
       "      <th>5</th>\n",
       "      <td>VW</td>\n",
       "      <td>Up!</td>\n",
       "      <td>1000</td>\n",
       "      <td>929</td>\n",
       "      <td>105</td>\n",
       "    </tr>\n",
       "    <tr>\n",
       "      <th>6</th>\n",
       "      <td>Skoda</td>\n",
       "      <td>Fabia</td>\n",
       "      <td>1400</td>\n",
       "      <td>1109</td>\n",
       "      <td>90</td>\n",
       "    </tr>\n",
       "    <tr>\n",
       "      <th>7</th>\n",
       "      <td>Mercedes</td>\n",
       "      <td>A-Class</td>\n",
       "      <td>1500</td>\n",
       "      <td>1365</td>\n",
       "      <td>92</td>\n",
       "    </tr>\n",
       "    <tr>\n",
       "      <th>8</th>\n",
       "      <td>Ford</td>\n",
       "      <td>Fiesta</td>\n",
       "      <td>1500</td>\n",
       "      <td>1112</td>\n",
       "      <td>98</td>\n",
       "    </tr>\n",
       "    <tr>\n",
       "      <th>9</th>\n",
       "      <td>Audi</td>\n",
       "      <td>A1</td>\n",
       "      <td>1600</td>\n",
       "      <td>1150</td>\n",
       "      <td>99</td>\n",
       "    </tr>\n",
       "    <tr>\n",
       "      <th>10</th>\n",
       "      <td>Hyundai</td>\n",
       "      <td>I20</td>\n",
       "      <td>1100</td>\n",
       "      <td>980</td>\n",
       "      <td>99</td>\n",
       "    </tr>\n",
       "    <tr>\n",
       "      <th>11</th>\n",
       "      <td>Suzuki</td>\n",
       "      <td>Swift</td>\n",
       "      <td>1300</td>\n",
       "      <td>990</td>\n",
       "      <td>101</td>\n",
       "    </tr>\n",
       "    <tr>\n",
       "      <th>12</th>\n",
       "      <td>Ford</td>\n",
       "      <td>Fiesta</td>\n",
       "      <td>1000</td>\n",
       "      <td>1112</td>\n",
       "      <td>99</td>\n",
       "    </tr>\n",
       "    <tr>\n",
       "      <th>13</th>\n",
       "      <td>Honda</td>\n",
       "      <td>Civic</td>\n",
       "      <td>1600</td>\n",
       "      <td>1252</td>\n",
       "      <td>94</td>\n",
       "    </tr>\n",
       "    <tr>\n",
       "      <th>14</th>\n",
       "      <td>Hundai</td>\n",
       "      <td>I30</td>\n",
       "      <td>1600</td>\n",
       "      <td>1326</td>\n",
       "      <td>97</td>\n",
       "    </tr>\n",
       "    <tr>\n",
       "      <th>15</th>\n",
       "      <td>Opel</td>\n",
       "      <td>Astra</td>\n",
       "      <td>1600</td>\n",
       "      <td>1330</td>\n",
       "      <td>97</td>\n",
       "    </tr>\n",
       "    <tr>\n",
       "      <th>16</th>\n",
       "      <td>BMW</td>\n",
       "      <td>1</td>\n",
       "      <td>1600</td>\n",
       "      <td>1365</td>\n",
       "      <td>99</td>\n",
       "    </tr>\n",
       "    <tr>\n",
       "      <th>17</th>\n",
       "      <td>Mazda</td>\n",
       "      <td>3</td>\n",
       "      <td>2200</td>\n",
       "      <td>1280</td>\n",
       "      <td>104</td>\n",
       "    </tr>\n",
       "    <tr>\n",
       "      <th>18</th>\n",
       "      <td>Skoda</td>\n",
       "      <td>Rapid</td>\n",
       "      <td>1600</td>\n",
       "      <td>1119</td>\n",
       "      <td>104</td>\n",
       "    </tr>\n",
       "    <tr>\n",
       "      <th>19</th>\n",
       "      <td>Ford</td>\n",
       "      <td>Focus</td>\n",
       "      <td>2000</td>\n",
       "      <td>1328</td>\n",
       "      <td>105</td>\n",
       "    </tr>\n",
       "    <tr>\n",
       "      <th>20</th>\n",
       "      <td>Ford</td>\n",
       "      <td>Mondeo</td>\n",
       "      <td>1600</td>\n",
       "      <td>1584</td>\n",
       "      <td>94</td>\n",
       "    </tr>\n",
       "    <tr>\n",
       "      <th>21</th>\n",
       "      <td>Opel</td>\n",
       "      <td>Insignia</td>\n",
       "      <td>2000</td>\n",
       "      <td>1428</td>\n",
       "      <td>99</td>\n",
       "    </tr>\n",
       "    <tr>\n",
       "      <th>22</th>\n",
       "      <td>Mercedes</td>\n",
       "      <td>C-Class</td>\n",
       "      <td>2100</td>\n",
       "      <td>1365</td>\n",
       "      <td>99</td>\n",
       "    </tr>\n",
       "    <tr>\n",
       "      <th>23</th>\n",
       "      <td>Skoda</td>\n",
       "      <td>Octavia</td>\n",
       "      <td>1600</td>\n",
       "      <td>1415</td>\n",
       "      <td>99</td>\n",
       "    </tr>\n",
       "    <tr>\n",
       "      <th>24</th>\n",
       "      <td>Volvo</td>\n",
       "      <td>S60</td>\n",
       "      <td>2000</td>\n",
       "      <td>1415</td>\n",
       "      <td>99</td>\n",
       "    </tr>\n",
       "    <tr>\n",
       "      <th>25</th>\n",
       "      <td>Mercedes</td>\n",
       "      <td>CLA</td>\n",
       "      <td>1500</td>\n",
       "      <td>1465</td>\n",
       "      <td>102</td>\n",
       "    </tr>\n",
       "    <tr>\n",
       "      <th>26</th>\n",
       "      <td>Audi</td>\n",
       "      <td>A4</td>\n",
       "      <td>2000</td>\n",
       "      <td>1490</td>\n",
       "      <td>104</td>\n",
       "    </tr>\n",
       "    <tr>\n",
       "      <th>27</th>\n",
       "      <td>Audi</td>\n",
       "      <td>A6</td>\n",
       "      <td>2000</td>\n",
       "      <td>1725</td>\n",
       "      <td>114</td>\n",
       "    </tr>\n",
       "    <tr>\n",
       "      <th>28</th>\n",
       "      <td>Volvo</td>\n",
       "      <td>V70</td>\n",
       "      <td>1600</td>\n",
       "      <td>1523</td>\n",
       "      <td>109</td>\n",
       "    </tr>\n",
       "    <tr>\n",
       "      <th>29</th>\n",
       "      <td>BMW</td>\n",
       "      <td>5</td>\n",
       "      <td>2000</td>\n",
       "      <td>1705</td>\n",
       "      <td>114</td>\n",
       "    </tr>\n",
       "    <tr>\n",
       "      <th>30</th>\n",
       "      <td>Mercedes</td>\n",
       "      <td>E-Class</td>\n",
       "      <td>2100</td>\n",
       "      <td>1605</td>\n",
       "      <td>115</td>\n",
       "    </tr>\n",
       "    <tr>\n",
       "      <th>31</th>\n",
       "      <td>Volvo</td>\n",
       "      <td>XC70</td>\n",
       "      <td>2000</td>\n",
       "      <td>1746</td>\n",
       "      <td>117</td>\n",
       "    </tr>\n",
       "    <tr>\n",
       "      <th>32</th>\n",
       "      <td>Ford</td>\n",
       "      <td>B-Max</td>\n",
       "      <td>1600</td>\n",
       "      <td>1235</td>\n",
       "      <td>104</td>\n",
       "    </tr>\n",
       "    <tr>\n",
       "      <th>33</th>\n",
       "      <td>BMW</td>\n",
       "      <td>2</td>\n",
       "      <td>1600</td>\n",
       "      <td>1390</td>\n",
       "      <td>108</td>\n",
       "    </tr>\n",
       "    <tr>\n",
       "      <th>34</th>\n",
       "      <td>Opel</td>\n",
       "      <td>Zafira</td>\n",
       "      <td>1600</td>\n",
       "      <td>1405</td>\n",
       "      <td>109</td>\n",
       "    </tr>\n",
       "    <tr>\n",
       "      <th>35</th>\n",
       "      <td>Mercedes</td>\n",
       "      <td>SLK</td>\n",
       "      <td>2500</td>\n",
       "      <td>1395</td>\n",
       "      <td>120</td>\n",
       "    </tr>\n",
       "  </tbody>\n",
       "</table>\n",
       "</div>"
      ],
      "text/plain": [
       "           Car       Model  Volume  Weight  CO2\n",
       "0       Toyota        Aygo    1000     790   99\n",
       "1   Mitsubishi  Space Star    1200    1160   95\n",
       "2        Skoda      Citigo    1000     929   95\n",
       "3         Fiat         500     900     865   90\n",
       "4         Mini      Cooper    1500    1140  105\n",
       "5           VW         Up!    1000     929  105\n",
       "6        Skoda       Fabia    1400    1109   90\n",
       "7     Mercedes     A-Class    1500    1365   92\n",
       "8         Ford      Fiesta    1500    1112   98\n",
       "9         Audi          A1    1600    1150   99\n",
       "10     Hyundai         I20    1100     980   99\n",
       "11      Suzuki       Swift    1300     990  101\n",
       "12        Ford      Fiesta    1000    1112   99\n",
       "13       Honda       Civic    1600    1252   94\n",
       "14      Hundai         I30    1600    1326   97\n",
       "15        Opel       Astra    1600    1330   97\n",
       "16         BMW           1    1600    1365   99\n",
       "17       Mazda           3    2200    1280  104\n",
       "18       Skoda       Rapid    1600    1119  104\n",
       "19        Ford       Focus    2000    1328  105\n",
       "20        Ford      Mondeo    1600    1584   94\n",
       "21        Opel    Insignia    2000    1428   99\n",
       "22    Mercedes     C-Class    2100    1365   99\n",
       "23       Skoda     Octavia    1600    1415   99\n",
       "24       Volvo         S60    2000    1415   99\n",
       "25    Mercedes         CLA    1500    1465  102\n",
       "26        Audi          A4    2000    1490  104\n",
       "27        Audi          A6    2000    1725  114\n",
       "28       Volvo         V70    1600    1523  109\n",
       "29         BMW           5    2000    1705  114\n",
       "30    Mercedes     E-Class    2100    1605  115\n",
       "31       Volvo        XC70    2000    1746  117\n",
       "32        Ford       B-Max    1600    1235  104\n",
       "33         BMW           2    1600    1390  108\n",
       "34        Opel      Zafira    1600    1405  109\n",
       "35    Mercedes         SLK    2500    1395  120"
      ]
     },
     "execution_count": 55,
     "metadata": {},
     "output_type": "execute_result"
    }
   ],
   "source": [
    "import pandas as pd   #importing pandas\n",
    "df = pd.read_excel(\"c:/test/machineLearning/Cars.xlsx\")  # reading the excel file, cars from c drive\n",
    "df  # displaying the table ,\n",
    "\n",
    "# you can see we have Car, Model, Volume, Weight, CO2 emission"
   ]
  },
  {
   "cell_type": "code",
   "execution_count": 56,
   "id": "fd6a787c",
   "metadata": {},
   "outputs": [],
   "source": [
    "# We can predict the CO2 emission of a car based on the size of the engine, but with multiple regression \n",
    "# we can throw in more variables, \n",
    "# like the weight of the car, to make the prediction more accurate.\n",
    "\n"
   ]
  },
  {
   "cell_type": "code",
   "execution_count": 57,
   "id": "9b8060a1",
   "metadata": {},
   "outputs": [],
   "source": [
    "# make a list of the independent values and call this variable X.\n",
    "# Put the dependent values in a variable called y.\n",
    "\n",
    "# generally X (independent variables) is capital and y (dependent) is small(but not mandatory)\n",
    "\n",
    "X = df[['Weight', 'Volume']]   # Weight and Volume columns are stored in X\n",
    "y = df['CO2']     # CO2 is stored in y\n",
    "\n"
   ]
  },
  {
   "cell_type": "code",
   "execution_count": 58,
   "id": "d8eff4fe",
   "metadata": {},
   "outputs": [
    {
     "name": "stdout",
     "output_type": "stream",
     "text": [
      "[107.2087328]\n"
     ]
    }
   ],
   "source": [
    "from sklearn import linear_model\n",
    "\n",
    "regr = linear_model.LinearRegression()\n",
    "regr.fit(X, y)\n",
    "\n",
    "#predict the CO2 emission of a car where the weight is 2300kg, and the volume is 1300cm3:\n",
    "predictedCO2 = regr.predict([[2300, 1300]])\n",
    "\n",
    "print(predictedCO2)"
   ]
  },
  {
   "cell_type": "code",
   "execution_count": 59,
   "id": "0ce517dc",
   "metadata": {},
   "outputs": [],
   "source": [
    "# We have predicted that a car with 1300 cm3 engine, \n",
    "# and a weight of 2300 kg, will release approximately 107 grams of CO2 for every kilometer it drives."
   ]
  },
  {
   "cell_type": "code",
   "execution_count": 60,
   "id": "afb96e3b",
   "metadata": {},
   "outputs": [],
   "source": [
    "# Coefficient\n",
    "\n",
    "# The coefficient is a factor that describes the relationship with an unknown variable.\n",
    "\n",
    "# In this case, we can ask for the coefficient value of weight against CO2, \n",
    "# and for volume against CO2. The answer(s) we get tells us what would happen \n",
    "# if we increase, or decrease, one of the independent values.\n"
   ]
  },
  {
   "cell_type": "code",
   "execution_count": 61,
   "id": "77233e74",
   "metadata": {},
   "outputs": [
    {
     "name": "stdout",
     "output_type": "stream",
     "text": [
      "[0.00755095 0.00780526]\n"
     ]
    }
   ],
   "source": [
    "# Printing the coefficient values of the regression object:\n",
    "\n",
    "print(regr.coef_)"
   ]
  },
  {
   "cell_type": "code",
   "execution_count": 62,
   "id": "f3bc8048",
   "metadata": {},
   "outputs": [],
   "source": [
    "# our linear equation will be like y = ax1 + bx2 + c   c here is y intercept\n",
    "\n",
    "# co2 emission = 0.00755095*weight + 0.00780526*volume + y intercept\n",
    "# a and b are the coefficents of weight and volume\n",
    "# a here is 0.00755095, if weight increases by 1 then co2 emission is increased by 0.00755095\n",
    "# b here is 0.00780526, if vollume increases by 1 then co2 emission increases by 0.00780526"
   ]
  },
  {
   "cell_type": "code",
   "execution_count": 63,
   "id": "6eccf455",
   "metadata": {},
   "outputs": [],
   "source": [
    "# lets test our predictions\n",
    "# let us change the weight of the car from 2300 to 3300  and check the co2 emission"
   ]
  },
  {
   "cell_type": "code",
   "execution_count": 64,
   "id": "a3b461d0",
   "metadata": {},
   "outputs": [
    {
     "name": "stdout",
     "output_type": "stream",
     "text": [
      "[114.75968007]\n"
     ]
    }
   ],
   "source": [
    "predictedCO2 = regr.predict([[3300, 1300]])\n",
    "\n",
    "print(predictedCO2)"
   ]
  },
  {
   "cell_type": "code",
   "execution_count": 65,
   "id": "b7254ae5",
   "metadata": {},
   "outputs": [],
   "source": [
    "# We have predicted that a car with 1.3 liter engine, \n",
    "# and a weight of 3300 kg, will release approximately 115 grams of CO2 for every kilometer it drives.\n",
    "\n",
    "# Which shows that the coefficient of 0.00755095 is correct:\n",
    "\n",
    "# 107.2087328 + (1000 * 0.00755095) = 114.75968\n",
    "\n"
   ]
  },
  {
   "cell_type": "code",
   "execution_count": 66,
   "id": "e9be4579",
   "metadata": {},
   "outputs": [],
   "source": [
    "# Train/Test\n",
    "\n",
    "# Evaluate Your Model\n",
    "# In Machine Learning we create models to predict the outcome of certain events, \n",
    "# like in the previous cases where we predicted the CO2 emission of a car when we knew the weight and engine size.\n",
    "\n",
    "# To measure if the model is good enough, we can use a method called Train/Test."
   ]
  },
  {
   "cell_type": "code",
   "execution_count": 67,
   "id": "53e48326",
   "metadata": {},
   "outputs": [],
   "source": [
    "# when we make a model, we divide our data into two parts, train and test\n",
    "# while training the model we give training data and while testing the model we give testing data\n",
    "# generally its 80% training and 20% testing"
   ]
  },
  {
   "cell_type": "code",
   "execution_count": 68,
   "id": "9f6e5aa0",
   "metadata": {},
   "outputs": [],
   "source": [
    "# Start With a Data Set\n",
    "\n",
    "# Start with a data set you want to test.\n",
    "\n",
    "# Our data set illustrates 100 customers in a shop, and their shopping habits."
   ]
  },
  {
   "cell_type": "code",
   "execution_count": 69,
   "id": "f398aa72",
   "metadata": {},
   "outputs": [
    {
     "data": {
      "image/png": "[encoded data removed]",
      "text/plain": [
       "<Figure size 432x288 with 1 Axes>"
      ]
     },
     "metadata": {
      "needs_background": "light"
     },
     "output_type": "display_data"
    }
   ],
   "source": [
    "import numpy as np\n",
    "import matplotlib.pyplot as plt\n",
    "np.random.seed(2)\n",
    "\n",
    "x = np.random.normal(3, 1, 100)    # x axis is minutes spent before making a purchase\n",
    "y = np.random.normal(150, 40, 100)/x  # y represents amount of money spent on the purchase\n",
    "\n",
    "plt.scatter(x, y)\n",
    "plt.show()"
   ]
  },
  {
   "cell_type": "code",
   "execution_count": 70,
   "id": "0814d2e2",
   "metadata": {},
   "outputs": [],
   "source": [
    "# The training set should be a random selection of 80% of the original data.\n",
    "\n",
    "# The testing set should be the remaining 20%."
   ]
  },
  {
   "cell_type": "code",
   "execution_count": 71,
   "id": "96998037",
   "metadata": {},
   "outputs": [],
   "source": [
    "train_x = x[:80]   # 80%\n",
    "train_y = y[:80]\n",
    "\n",
    "test_x = x[80:]   \n",
    "test_y = y[80:]"
   ]
  },
  {
   "cell_type": "code",
   "execution_count": 72,
   "id": "76149633",
   "metadata": {},
   "outputs": [
    {
     "data": {
      "image/png": "[encoded data removed]",
      "text/plain": [
       "<Figure size 432x288 with 1 Axes>"
      ]
     },
     "metadata": {
      "needs_background": "light"
     },
     "output_type": "display_data"
    }
   ],
   "source": [
    "# Display the Training Set\n",
    "# Display the same scatter plot with the training set:\n",
    "\n",
    "plt.scatter(train_x, train_y)\n",
    "plt.show()"
   ]
  },
  {
   "cell_type": "code",
   "execution_count": 73,
   "id": "bd269b7f",
   "metadata": {},
   "outputs": [],
   "source": [
    "# Display the Testing Set\n",
    "# To make sure the testing set is not completely different, \n",
    "# we will take a look at the testing set as well."
   ]
  },
  {
   "cell_type": "code",
   "execution_count": 74,
   "id": "903d2c74",
   "metadata": {},
   "outputs": [
    {
     "data": {
      "image/png": "[encoded data removed]",
      "text/plain": [
       "<Figure size 432x288 with 1 Axes>"
      ]
     },
     "metadata": {
      "needs_background": "light"
     },
     "output_type": "display_data"
    }
   ],
   "source": [
    "plt.scatter(test_x, test_y)\n",
    "plt.show()"
   ]
  },
  {
   "cell_type": "code",
   "execution_count": 75,
   "id": "7e0ac7f4",
   "metadata": {},
   "outputs": [],
   "source": [
    "# if you observe the scatter plot carefully,linear will not work. lets try polynomial regression "
   ]
  },
  {
   "cell_type": "code",
   "execution_count": 76,
   "id": "d1a7c122",
   "metadata": {},
   "outputs": [
    {
     "data": {
      "image/png": "[encoded data removed]",
      "text/plain": [
       "<Figure size 432x288 with 1 Axes>"
      ]
     },
     "metadata": {
      "needs_background": "light"
     },
     "output_type": "display_data"
    }
   ],
   "source": [
    "mymodel = np.poly1d(np.polyfit(train_x, train_y, 4))   # 4th degree polynomial\n",
    "\n",
    "myline = np.linspace(0, 6, 100) # start the curve from 0 end at 6\n",
    "\n",
    "plt.scatter(train_x, train_y)\n",
    "plt.plot(myline, mymodel(myline))\n",
    "plt.show()"
   ]
  },
  {
   "cell_type": "code",
   "execution_count": 77,
   "id": "b93527db",
   "metadata": {},
   "outputs": [],
   "source": [
    "# lets check r2_score"
   ]
  },
  {
   "cell_type": "code",
   "execution_count": 78,
   "id": "001ac43c",
   "metadata": {},
   "outputs": [
    {
     "name": "stdout",
     "output_type": "stream",
     "text": [
      "0.7988645544629795\n"
     ]
    }
   ],
   "source": [
    "r2 = r2_score(train_y, mymodel(train_x))\n",
    "\n",
    "print(r2)"
   ]
  },
  {
   "cell_type": "code",
   "execution_count": 79,
   "id": "68058ff7",
   "metadata": {},
   "outputs": [],
   "source": [
    "# 0.799 shows that there is an OK relation"
   ]
  },
  {
   "cell_type": "code",
   "execution_count": 80,
   "id": "d5eea33e",
   "metadata": {},
   "outputs": [],
   "source": [
    "#Now we want to test the model with the testing data as well, to see if gives us the same result."
   ]
  },
  {
   "cell_type": "code",
   "execution_count": 81,
   "id": "5d4a3953",
   "metadata": {},
   "outputs": [],
   "source": [
    "# Let us find the R2 score when using testing data:"
   ]
  },
  {
   "cell_type": "code",
   "execution_count": 82,
   "id": "bcc727bc",
   "metadata": {},
   "outputs": [
    {
     "name": "stdout",
     "output_type": "stream",
     "text": [
      "0.8086921460343556\n"
     ]
    }
   ],
   "source": [
    "r2 = r2_score(test_y, mymodel(test_x))\n",
    "\n",
    "print(r2)"
   ]
  },
  {
   "cell_type": "code",
   "execution_count": 83,
   "id": "b34b0074",
   "metadata": {},
   "outputs": [],
   "source": [
    "# The result 0.809 shows that the model fits the testing set as well, \n",
    "# and we are confident that we can use the model to predict future values."
   ]
  },
  {
   "cell_type": "code",
   "execution_count": 84,
   "id": "2994cd59",
   "metadata": {},
   "outputs": [],
   "source": [
    "# Predict Values\n",
    "# Now that we have established that our model is OK, we can start predicting new values."
   ]
  },
  {
   "cell_type": "code",
   "execution_count": 85,
   "id": "8aa6583f",
   "metadata": {},
   "outputs": [
    {
     "name": "stdout",
     "output_type": "stream",
     "text": [
      "22.879625918116744\n"
     ]
    }
   ],
   "source": [
    "print(mymodel(5))   # How much money will a buying customer spend, if she or he stays in the shop for 5 minutes?# "
   ]
  },
  {
   "cell_type": "code",
   "execution_count": 86,
   "id": "894a052e",
   "metadata": {},
   "outputs": [],
   "source": [
    "# The example predicted the customer to spend 22.88 dollars, as seems to correspond to the diagram:"
   ]
  }
 ],
 "metadata": {
  "kernelspec": {
   "display_name": "Python 3 (ipykernel)",
   "language": "python",
   "name": "python3"
  },
  "language_info": {
   "codemirror_mode": {
    "name": "ipython",
    "version": 3
   },
   "file_extension": ".py",
   "mimetype": "text/x-python",
   "name": "python",
   "nbconvert_exporter": "python",
   "pygments_lexer": "ipython3",
   "version": "3.9.7"
  }
 },
 "nbformat": 4,
 "nbformat_minor": 5
}
