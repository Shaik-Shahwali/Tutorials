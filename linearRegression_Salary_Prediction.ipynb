{
 "cells": [
  {
   "cell_type": "markdown",
   "id": "07477de0",
   "metadata": {},
   "source": [
    "## In this tutorial, we are going to learn Linear Regression."
   ]
  },
  {
   "cell_type": "markdown",
   "id": "1b1fec30",
   "metadata": {},
   "source": [
    "## Predicting Salary of an employee"
   ]
  },
  {
   "cell_type": "code",
   "execution_count": 1,
   "id": "23366a17",
   "metadata": {},
   "outputs": [],
   "source": [
    "# importing the required libraries\n",
    "\n",
    "import numpy as np\n",
    "import matplotlib.pyplot as plt\n",
    "import pandas as pd\n",
    "import seaborn as sns\n",
    "%matplotlib inline"
   ]
  },
  {
   "cell_type": "code",
   "execution_count": 2,
   "id": "bc114999",
   "metadata": {},
   "outputs": [],
   "source": [
    "# importing dataset \n",
    "salary_data = pd.read_csv(\"c:/test/ML Algorithms dataset/Salary_Data.csv\")"
   ]
  },
  {
   "cell_type": "code",
   "execution_count": 3,
   "id": "38cee774",
   "metadata": {},
   "outputs": [],
   "source": [
    "# getting dependent X and independent variables y\n",
    "X = salary_data.iloc[:, :-1].values\n",
    "y = salary_data.iloc[:, 1].values"
   ]
  },
  {
   "cell_type": "code",
   "execution_count": 10,
   "id": "f21ad023",
   "metadata": {},
   "outputs": [
    {
     "name": "stdout",
     "output_type": "stream",
     "text": [
      "    YearsExperience  Salary\n",
      "0               1.1   39343\n",
      "1               1.3   46205\n",
      "2               1.5   37731\n",
      "3               2.0   43525\n",
      "4               2.2   39891\n",
      "5               2.9   56642\n",
      "6               3.0   60150\n",
      "7               3.2   54445\n",
      "8               3.2   64445\n",
      "9               3.7   57189\n",
      "10              3.9   63218\n",
      "11              4.0   55794\n",
      "12              4.0   56957\n",
      "13              4.1   57081\n",
      "14              4.5   61111\n",
      "15              4.9   67938\n",
      "16              5.1   66029\n",
      "17              5.3   83088\n",
      "18              5.9   81363\n",
      "19              6.0   93940\n",
      "20              6.8   91738\n",
      "21              7.1   98273\n",
      "22              7.9  101302\n",
      "23              8.2  113812\n",
      "24              8.7  109431\n",
      "25              9.0  105582\n",
      "26              9.5  116969\n",
      "27              9.6  112635\n",
      "28             10.3  122391\n",
      "29             10.5  121872\n"
     ]
    }
   ],
   "source": [
    "# displaying the dataset\n",
    "print(salary_data)"
   ]
  },
  {
   "cell_type": "code",
   "execution_count": 4,
   "id": "9f56ec4d",
   "metadata": {},
   "outputs": [
    {
     "name": "stdout",
     "output_type": "stream",
     "text": [
      "[[ 1.1]\n",
      " [ 1.3]\n",
      " [ 1.5]\n",
      " [ 2. ]\n",
      " [ 2.2]\n",
      " [ 2.9]\n",
      " [ 3. ]\n",
      " [ 3.2]\n",
      " [ 3.2]\n",
      " [ 3.7]\n",
      " [ 3.9]\n",
      " [ 4. ]\n",
      " [ 4. ]\n",
      " [ 4.1]\n",
      " [ 4.5]\n",
      " [ 4.9]\n",
      " [ 5.1]\n",
      " [ 5.3]\n",
      " [ 5.9]\n",
      " [ 6. ]\n",
      " [ 6.8]\n",
      " [ 7.1]\n",
      " [ 7.9]\n",
      " [ 8.2]\n",
      " [ 8.7]\n",
      " [ 9. ]\n",
      " [ 9.5]\n",
      " [ 9.6]\n",
      " [10.3]\n",
      " [10.5]]\n"
     ]
    }
   ],
   "source": [
    "# checking whats in X. Experience in years\n",
    "print(X)"
   ]
  },
  {
   "cell_type": "code",
   "execution_count": 5,
   "id": "90186307",
   "metadata": {},
   "outputs": [
    {
     "name": "stdout",
     "output_type": "stream",
     "text": [
      "[ 39343  46205  37731  43525  39891  56642  60150  54445  64445  57189\n",
      "  63218  55794  56957  57081  61111  67938  66029  83088  81363  93940\n",
      "  91738  98273 101302 113812 109431 105582 116969 112635 122391 121872]\n"
     ]
    }
   ],
   "source": [
    "# checking whats in y, salary \n",
    "print(y)"
   ]
  },
  {
   "cell_type": "code",
   "execution_count": 6,
   "id": "f20f9624",
   "metadata": {},
   "outputs": [
    {
     "data": {
      "image/png": "[encoded data removed]",
      "text/plain": [
       "<Figure size 432x288 with 1 Axes>"
      ]
     },
     "metadata": {
      "needs_background": "light"
     },
     "output_type": "display_data"
    }
   ],
   "source": [
    "# plotting a scatter graph to check the relationship.\n",
    "\n",
    "plt.scatter(X, y)\n",
    "plt.show()"
   ]
  },
  {
   "cell_type": "markdown",
   "id": "5c7bad4c",
   "metadata": {},
   "source": [
    "## salary increases as years of experience increases"
   ]
  },
  {
   "cell_type": "markdown",
   "id": "ca39ecb6",
   "metadata": {},
   "source": [
    "## This also indicates that we can apply a Linear regression algorithm"
   ]
  },
  {
   "cell_type": "markdown",
   "id": "463eb89b",
   "metadata": {},
   "source": [
    "## -------------------------------------------------------------------"
   ]
  },
  {
   "cell_type": "markdown",
   "id": "42fa2a7e",
   "metadata": {},
   "source": [
    "## Applying Linear Regression Algorithm"
   ]
  },
  {
   "cell_type": "code",
   "execution_count": 7,
   "id": "5202d807",
   "metadata": {},
   "outputs": [],
   "source": [
    "#Splitting dataset into training and testing\n",
    "\n",
    "from sklearn.model_selection import train_test_split    # importing train_test_split\n",
    "X_train, X_test, y_train, y_test = train_test_split(X,y, test_size=.33, random_state=0)\n",
    "\n",
    "# test_size=.33 says that we are taking our test data to be 33% and training data to be 77%\n",
    "# It could be any percent."
   ]
  },
  {
   "cell_type": "code",
   "execution_count": 8,
   "id": "3e5d8f20",
   "metadata": {},
   "outputs": [
    {
     "data": {
      "text/plain": [
       "LinearRegression()"
      ]
     },
     "execution_count": 8,
     "metadata": {},
     "output_type": "execute_result"
    }
   ],
   "source": [
    "# fitting linear regression to the training data set\n",
    "from sklearn.linear_model import LinearRegression\n",
    "\n",
    "lr = LinearRegression()\n",
    "lr.fit(X_train, y_train)   # we are feeding the model input values and output values. \n",
    "                           # it finds a relationship between input and output and when inputs test data is given predicts \n",
    "                            # output\n",
    "    "
   ]
  },
  {
   "cell_type": "code",
   "execution_count": 9,
   "id": "9589abd6",
   "metadata": {},
   "outputs": [
    {
     "data": {
      "text/plain": [
       "array([ 40835.10590871, 123079.39940819,  65134.55626083,  63265.36777221,\n",
       "       115602.64545369, 108125.8914992 , 116537.23969801,  64199.96201652,\n",
       "        76349.68719258, 100649.1375447 ])"
      ]
     },
     "execution_count": 9,
     "metadata": {},
     "output_type": "execute_result"
    }
   ],
   "source": [
    "# Predicting the test results\n",
    "y_pred = lr.predict(X_test)  # we are giving test data as input and getting predicted values from algorithm\n",
    "y_pred"
   ]
  },
  {
   "cell_type": "code",
   "execution_count": 10,
   "id": "3b423d8b",
   "metadata": {},
   "outputs": [
    {
     "data": {
      "text/plain": [
       "array([ 37731, 122391,  57081,  63218, 116969, 109431, 112635,  55794,\n",
       "        83088, 101302], dtype=int64)"
      ]
     },
     "execution_count": 10,
     "metadata": {},
     "output_type": "execute_result"
    }
   ],
   "source": [
    "# lets check y_test values with y_pred (predicted) values\n",
    "y_test"
   ]
  },
  {
   "cell_type": "markdown",
   "id": "6987c4fc",
   "metadata": {},
   "source": [
    "## You can check that, algorithm did a pretty decent job in predicting salaries"
   ]
  },
  {
   "cell_type": "markdown",
   "id": "87d96492",
   "metadata": {},
   "source": [
    "## -------------------------------------------------------------------------------------"
   ]
  },
  {
   "cell_type": "code",
   "execution_count": 11,
   "id": "f939f812",
   "metadata": {},
   "outputs": [
    {
     "data": {
      "image/png": "[encoded data removed]",
      "text/plain": [
       "<Figure size 432x288 with 1 Axes>"
      ]
     },
     "metadata": {
      "needs_background": "light"
     },
     "output_type": "display_data"
    }
   ],
   "source": [
    "# lets visualize the training set results\n",
    "\n",
    "plt.scatter(X_train, y_train, color=\"blue\")  # displays scatter plot\n",
    "plt.plot(X_train, lr.predict(X_train), color=\"red\")  # diaplays a line, that best suits the data\n",
    "plt.title(\"Salary v/s Yrs of Experience (training set)\")  #name of the graph\n",
    "plt.xlabel(\"yrs of exp\")  # yrs of exp on x axis\n",
    "plt.ylabel(\"salary\")   # salary on y axis\n",
    "plt.show()"
   ]
  },
  {
   "cell_type": "code",
   "execution_count": 12,
   "id": "f79ff82b",
   "metadata": {},
   "outputs": [
    {
     "data": {
      "image/png": "[encoded data removed]",
      "text/plain": [
       "<Figure size 432x288 with 1 Axes>"
      ]
     },
     "metadata": {
      "needs_background": "light"
     },
     "output_type": "display_data"
    }
   ],
   "source": [
    "# Visualizing the test set results\n",
    "\n",
    "plt.scatter(X_test, y_test, color=\"blue\")  # displays scatter plot\n",
    "plt.plot(X_train, lr.predict(X_train), color=\"red\")  # diaplays a line, that best suits the data\n",
    "plt.title(\"Salary v/s Yrs of Experience (test set)\")  #name of the graph\n",
    "plt.xlabel(\"yrs of exp\")  # yrs of exp on x axis\n",
    "plt.ylabel(\"salary\")   # salary on y axis\n",
    "plt.show()"
   ]
  },
  {
   "cell_type": "markdown",
   "id": "aa47f438",
   "metadata": {},
   "source": [
    "## you can observe that the line fits well for the test data also."
   ]
  },
  {
   "cell_type": "markdown",
   "id": "0402e218",
   "metadata": {},
   "source": [
    "## --------------------------------------------------"
   ]
  },
  {
   "cell_type": "markdown",
   "id": "491abf72",
   "metadata": {},
   "source": [
    "## Finding the measures of accuracy"
   ]
  },
  {
   "cell_type": "code",
   "execution_count": 13,
   "id": "7b4f249a",
   "metadata": {},
   "outputs": [
    {
     "name": "stdout",
     "output_type": "stream",
     "text": [
      "Mean Absolute Error  3426.4269374307123\n",
      "\n",
      "Mean Squared Error  21026037.329511296\n",
      "\n",
      "Root Mean Squared Error  4585.4157204675885\n",
      "\n",
      "Root Absolute Error  58.53568943329114\n"
     ]
    }
   ],
   "source": [
    "# finding the errors (also called residuals)\n",
    "# we calculate mean absolute error (MAE), mean squared error (MSE), Root Mean Squared Error(RMSE)\n",
    "\n",
    "from sklearn import metrics\n",
    "print(\"Mean Absolute Error \", metrics.mean_absolute_error(y_test,y_pred))\n",
    "print()\n",
    "print(\"Mean Squared Error \", metrics.mean_squared_error(y_test,y_pred))\n",
    "print()\n",
    "print(\"Root Mean Squared Error \", np.sqrt(metrics.mean_squared_error(y_test,y_pred)))\n",
    "print()\n",
    "print(\"Root Absolute Error \", np.sqrt(metrics.mean_absolute_error(y_test,y_pred)))\n",
    "\n",
    "\n",
    "# The values should be as small as possible"
   ]
  },
  {
   "cell_type": "markdown",
   "id": "61bc3bcf",
   "metadata": {},
   "source": [
    "## These is the end of tutorial\n",
    "\n",
    "## Thank You!"
   ]
  }
 ],
 "metadata": {
  "kernelspec": {
   "display_name": "Python 3 (ipykernel)",
   "language": "python",
   "name": "python3"
  },
  "language_info": {
   "codemirror_mode": {
    "name": "ipython",
    "version": 3
   },
   "file_extension": ".py",
   "mimetype": "text/x-python",
   "name": "python",
   "nbconvert_exporter": "python",
   "pygments_lexer": "ipython3",
   "version": "3.9.7"
  }
 },
 "nbformat": 4,
 "nbformat_minor": 5
}
